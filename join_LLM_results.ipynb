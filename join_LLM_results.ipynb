{
 "cells": [
  {
   "cell_type": "code",
   "execution_count": 1,
   "metadata": {},
   "outputs": [
    {
     "data": {
      "text/html": [
       "<pre>✔️ 699 ms (2024-12-13T12:12:44/2024-12-13T12:12:45)</pre>"
      ],
      "text/plain": [
       "<IPython.core.display.HTML object>"
      ]
     },
     "metadata": {},
     "output_type": "display_data"
    }
   ],
   "source": [
    "%reload_ext autotime\n",
    "import pandas as pd\n",
    "import geopandas as gpd\n",
    "from glob import glob\n",
    "import os\n",
    "from tqdm.auto import tqdm\n",
    "import statsmodels.formula.api as smf\n",
    "tqdm.pandas()"
   ]
  },
  {
   "cell_type": "code",
   "execution_count": 2,
   "metadata": {},
   "outputs": [
    {
     "data": {
      "text/html": [
       "<pre>✔️ 79.3 ms (2024-12-13T12:12:45/2024-12-13T12:12:45)</pre>"
      ],
      "text/plain": [
       "<IPython.core.display.HTML object>"
      ]
     },
     "metadata": {},
     "output_type": "display_data"
    },
    {
     "data": {
      "text/html": [
       "<div>\n",
       "<style scoped>\n",
       "    .dataframe tbody tr th:only-of-type {\n",
       "        vertical-align: middle;\n",
       "    }\n",
       "\n",
       "    .dataframe tbody tr th {\n",
       "        vertical-align: top;\n",
       "    }\n",
       "\n",
       "    .dataframe thead th {\n",
       "        text-align: right;\n",
       "    }\n",
       "</style>\n",
       "<table border=\"1\" class=\"dataframe\">\n",
       "  <thead>\n",
       "    <tr style=\"text-align: right;\">\n",
       "      <th></th>\n",
       "      <th>Index</th>\n",
       "      <th>pid</th>\n",
       "      <th>n</th>\n",
       "      <th>time</th>\n",
       "      <th>anxiousness</th>\n",
       "      <th>latitude</th>\n",
       "      <th>longitude</th>\n",
       "      <th>geometry</th>\n",
       "      <th>panoid</th>\n",
       "      <th>panolat</th>\n",
       "      <th>panolon</th>\n",
       "      <th>panodate</th>\n",
       "      <th>panothirdparty</th>\n",
       "      <th>source</th>\n",
       "      <th>uploader</th>\n",
       "      <th>green</th>\n",
       "      <th>environment</th>\n",
       "      <th>water</th>\n",
       "      <th>obscured</th>\n",
       "      <th>people</th>\n",
       "      <th>cars</th>\n",
       "      <th>bikes</th>\n",
       "    </tr>\n",
       "  </thead>\n",
       "  <tbody>\n",
       "    <tr>\n",
       "      <th>0</th>\n",
       "      <td>0</td>\n",
       "      <td>P20001</td>\n",
       "      <td>1</td>\n",
       "      <td>2023-04-25T02:51:42Z</td>\n",
       "      <td>0</td>\n",
       "      <td>-36.924795</td>\n",
       "      <td>174.738044</td>\n",
       "      <td>POINT (1754803.112 5912059.517)</td>\n",
       "      <td>IvrcS0W1RlFAlnci-p39XA</td>\n",
       "      <td>-36.924665</td>\n",
       "      <td>174.737914</td>\n",
       "      <td>2012-04</td>\n",
       "      <td>False</td>\n",
       "      <td>launch</td>\n",
       "      <td>NaN</td>\n",
       "      <td>70</td>\n",
       "      <td>residential</td>\n",
       "      <td>0</td>\n",
       "      <td>30</td>\n",
       "      <td>0</td>\n",
       "      <td>1</td>\n",
       "      <td>0</td>\n",
       "    </tr>\n",
       "    <tr>\n",
       "      <th>1</th>\n",
       "      <td>1</td>\n",
       "      <td>P20001</td>\n",
       "      <td>2</td>\n",
       "      <td>2023-04-25T08:43:13Z</td>\n",
       "      <td>0</td>\n",
       "      <td>-36.924801</td>\n",
       "      <td>174.738076</td>\n",
       "      <td>POINT (1754806.011 5912058.736)</td>\n",
       "      <td>IvrcS0W1RlFAlnci-p39XA</td>\n",
       "      <td>-36.924665</td>\n",
       "      <td>174.737914</td>\n",
       "      <td>2012-04</td>\n",
       "      <td>False</td>\n",
       "      <td>launch</td>\n",
       "      <td>NaN</td>\n",
       "      <td>70</td>\n",
       "      <td>residential</td>\n",
       "      <td>0</td>\n",
       "      <td>30</td>\n",
       "      <td>0</td>\n",
       "      <td>1</td>\n",
       "      <td>0</td>\n",
       "    </tr>\n",
       "    <tr>\n",
       "      <th>2</th>\n",
       "      <td>2</td>\n",
       "      <td>P20001</td>\n",
       "      <td>3</td>\n",
       "      <td>2023-04-26T02:22:26Z</td>\n",
       "      <td>0</td>\n",
       "      <td>-36.924783</td>\n",
       "      <td>174.738071</td>\n",
       "      <td>POINT (1754805.575 5912060.734)</td>\n",
       "      <td>IvrcS0W1RlFAlnci-p39XA</td>\n",
       "      <td>-36.924665</td>\n",
       "      <td>174.737914</td>\n",
       "      <td>2012-04</td>\n",
       "      <td>False</td>\n",
       "      <td>launch</td>\n",
       "      <td>NaN</td>\n",
       "      <td>70</td>\n",
       "      <td>residential</td>\n",
       "      <td>0</td>\n",
       "      <td>30</td>\n",
       "      <td>0</td>\n",
       "      <td>1</td>\n",
       "      <td>0</td>\n",
       "    </tr>\n",
       "    <tr>\n",
       "      <th>3</th>\n",
       "      <td>3</td>\n",
       "      <td>P20001</td>\n",
       "      <td>4</td>\n",
       "      <td>2023-04-26T09:00:53Z</td>\n",
       "      <td>0</td>\n",
       "      <td>-36.924797</td>\n",
       "      <td>174.738123</td>\n",
       "      <td>POINT (1754810.215 5912059.092)</td>\n",
       "      <td>IvrcS0W1RlFAlnci-p39XA</td>\n",
       "      <td>-36.924665</td>\n",
       "      <td>174.737914</td>\n",
       "      <td>2012-04</td>\n",
       "      <td>False</td>\n",
       "      <td>launch</td>\n",
       "      <td>NaN</td>\n",
       "      <td>70</td>\n",
       "      <td>residential</td>\n",
       "      <td>0</td>\n",
       "      <td>30</td>\n",
       "      <td>0</td>\n",
       "      <td>1</td>\n",
       "      <td>0</td>\n",
       "    </tr>\n",
       "    <tr>\n",
       "      <th>4</th>\n",
       "      <td>4</td>\n",
       "      <td>P20001</td>\n",
       "      <td>5</td>\n",
       "      <td>2023-04-26T20:36:19Z</td>\n",
       "      <td>3</td>\n",
       "      <td>-36.924771</td>\n",
       "      <td>174.738084</td>\n",
       "      <td>POINT (1754806.75 5912062.109)</td>\n",
       "      <td>IvrcS0W1RlFAlnci-p39XA</td>\n",
       "      <td>-36.924665</td>\n",
       "      <td>174.737914</td>\n",
       "      <td>2012-04</td>\n",
       "      <td>False</td>\n",
       "      <td>launch</td>\n",
       "      <td>NaN</td>\n",
       "      <td>70</td>\n",
       "      <td>residential</td>\n",
       "      <td>0</td>\n",
       "      <td>30</td>\n",
       "      <td>0</td>\n",
       "      <td>1</td>\n",
       "      <td>0</td>\n",
       "    </tr>\n",
       "    <tr>\n",
       "      <th>...</th>\n",
       "      <td>...</td>\n",
       "      <td>...</td>\n",
       "      <td>...</td>\n",
       "      <td>...</td>\n",
       "      <td>...</td>\n",
       "      <td>...</td>\n",
       "      <td>...</td>\n",
       "      <td>...</td>\n",
       "      <td>...</td>\n",
       "      <td>...</td>\n",
       "      <td>...</td>\n",
       "      <td>...</td>\n",
       "      <td>...</td>\n",
       "      <td>...</td>\n",
       "      <td>...</td>\n",
       "      <td>...</td>\n",
       "      <td>...</td>\n",
       "      <td>...</td>\n",
       "      <td>...</td>\n",
       "      <td>...</td>\n",
       "      <td>...</td>\n",
       "      <td>...</td>\n",
       "    </tr>\n",
       "    <tr>\n",
       "      <th>1318</th>\n",
       "      <td>1426</td>\n",
       "      <td>P20721</td>\n",
       "      <td>1</td>\n",
       "      <td>2024-05-05T02:00:52Z</td>\n",
       "      <td>1</td>\n",
       "      <td>-36.893455</td>\n",
       "      <td>174.728262</td>\n",
       "      <td>POINT (1753994.828 5915552.341)</td>\n",
       "      <td>CfRtPfDMNhfXHTNvMwnYRw</td>\n",
       "      <td>-36.893394</td>\n",
       "      <td>174.728062</td>\n",
       "      <td>2024-06</td>\n",
       "      <td>False</td>\n",
       "      <td>launch</td>\n",
       "      <td>NaN</td>\n",
       "      <td>40</td>\n",
       "      <td>residential</td>\n",
       "      <td>0</td>\n",
       "      <td>20</td>\n",
       "      <td>1</td>\n",
       "      <td>1</td>\n",
       "      <td>0</td>\n",
       "    </tr>\n",
       "    <tr>\n",
       "      <th>1319</th>\n",
       "      <td>1427</td>\n",
       "      <td>P20721</td>\n",
       "      <td>2</td>\n",
       "      <td>2024-05-05T07:36:22Z</td>\n",
       "      <td>1</td>\n",
       "      <td>-36.893483</td>\n",
       "      <td>174.728253</td>\n",
       "      <td>POINT (1753993.98 5915549.306)</td>\n",
       "      <td>CfRtPfDMNhfXHTNvMwnYRw</td>\n",
       "      <td>-36.893394</td>\n",
       "      <td>174.728062</td>\n",
       "      <td>2024-06</td>\n",
       "      <td>False</td>\n",
       "      <td>launch</td>\n",
       "      <td>NaN</td>\n",
       "      <td>40</td>\n",
       "      <td>residential</td>\n",
       "      <td>0</td>\n",
       "      <td>20</td>\n",
       "      <td>1</td>\n",
       "      <td>1</td>\n",
       "      <td>0</td>\n",
       "    </tr>\n",
       "    <tr>\n",
       "      <th>1320</th>\n",
       "      <td>1428</td>\n",
       "      <td>P20721</td>\n",
       "      <td>3</td>\n",
       "      <td>2024-05-05T23:06:27Z</td>\n",
       "      <td>2</td>\n",
       "      <td>-36.845252</td>\n",
       "      <td>174.759951</td>\n",
       "      <td>POINT (1756917.266 5920848.722)</td>\n",
       "      <td>AF1QipN2FD2eYEmK8bRpEgoM7fFl5-nUstwWujnRj0gv</td>\n",
       "      <td>-36.845292</td>\n",
       "      <td>174.759939</td>\n",
       "      <td>2022-06-24</td>\n",
       "      <td>True</td>\n",
       "      <td>photos:street_view_publish_api</td>\n",
       "      <td>Mint Design</td>\n",
       "      <td>10</td>\n",
       "      <td>built up</td>\n",
       "      <td>0</td>\n",
       "      <td>60</td>\n",
       "      <td>0</td>\n",
       "      <td>3</td>\n",
       "      <td>0</td>\n",
       "    </tr>\n",
       "    <tr>\n",
       "      <th>1321</th>\n",
       "      <td>1429</td>\n",
       "      <td>P20721</td>\n",
       "      <td>4</td>\n",
       "      <td>2024-05-06T07:04:57Z</td>\n",
       "      <td>0</td>\n",
       "      <td>-36.845165</td>\n",
       "      <td>174.759885</td>\n",
       "      <td>POINT (1756911.566 5920858.442)</td>\n",
       "      <td>AF1QipNj6yheGtCvR6Gk2Svq_lG_fuaGPjehPV8kouy8</td>\n",
       "      <td>-36.845177</td>\n",
       "      <td>174.759792</td>\n",
       "      <td>2022-06-24</td>\n",
       "      <td>True</td>\n",
       "      <td>photos:street_view_publish_api</td>\n",
       "      <td>Mint Design</td>\n",
       "      <td>0</td>\n",
       "      <td>Built up</td>\n",
       "      <td>0</td>\n",
       "      <td>100</td>\n",
       "      <td>0</td>\n",
       "      <td>0</td>\n",
       "      <td>0</td>\n",
       "    </tr>\n",
       "    <tr>\n",
       "      <th>1322</th>\n",
       "      <td>1430</td>\n",
       "      <td>P20721</td>\n",
       "      <td>5</td>\n",
       "      <td>2024-05-06T20:11:18Z</td>\n",
       "      <td>1</td>\n",
       "      <td>-36.845252</td>\n",
       "      <td>174.759953</td>\n",
       "      <td>POINT (1756917.426 5920848.708)</td>\n",
       "      <td>AF1QipN2FD2eYEmK8bRpEgoM7fFl5-nUstwWujnRj0gv</td>\n",
       "      <td>-36.845292</td>\n",
       "      <td>174.759939</td>\n",
       "      <td>2022-06-24</td>\n",
       "      <td>True</td>\n",
       "      <td>photos:street_view_publish_api</td>\n",
       "      <td>Mint Design</td>\n",
       "      <td>10</td>\n",
       "      <td>built up</td>\n",
       "      <td>0</td>\n",
       "      <td>60</td>\n",
       "      <td>0</td>\n",
       "      <td>3</td>\n",
       "      <td>0</td>\n",
       "    </tr>\n",
       "  </tbody>\n",
       "</table>\n",
       "<p>1323 rows × 22 columns</p>\n",
       "</div>"
      ],
      "text/plain": [
       "      Index     pid  n                  time  anxiousness   latitude  \\\n",
       "0         0  P20001  1  2023-04-25T02:51:42Z            0 -36.924795   \n",
       "1         1  P20001  2  2023-04-25T08:43:13Z            0 -36.924801   \n",
       "2         2  P20001  3  2023-04-26T02:22:26Z            0 -36.924783   \n",
       "3         3  P20001  4  2023-04-26T09:00:53Z            0 -36.924797   \n",
       "4         4  P20001  5  2023-04-26T20:36:19Z            3 -36.924771   \n",
       "...     ...     ... ..                   ...          ...        ...   \n",
       "1318   1426  P20721  1  2024-05-05T02:00:52Z            1 -36.893455   \n",
       "1319   1427  P20721  2  2024-05-05T07:36:22Z            1 -36.893483   \n",
       "1320   1428  P20721  3  2024-05-05T23:06:27Z            2 -36.845252   \n",
       "1321   1429  P20721  4  2024-05-06T07:04:57Z            0 -36.845165   \n",
       "1322   1430  P20721  5  2024-05-06T20:11:18Z            1 -36.845252   \n",
       "\n",
       "       longitude                         geometry  \\\n",
       "0     174.738044  POINT (1754803.112 5912059.517)   \n",
       "1     174.738076  POINT (1754806.011 5912058.736)   \n",
       "2     174.738071  POINT (1754805.575 5912060.734)   \n",
       "3     174.738123  POINT (1754810.215 5912059.092)   \n",
       "4     174.738084   POINT (1754806.75 5912062.109)   \n",
       "...          ...                              ...   \n",
       "1318  174.728262  POINT (1753994.828 5915552.341)   \n",
       "1319  174.728253   POINT (1753993.98 5915549.306)   \n",
       "1320  174.759951  POINT (1756917.266 5920848.722)   \n",
       "1321  174.759885  POINT (1756911.566 5920858.442)   \n",
       "1322  174.759953  POINT (1756917.426 5920848.708)   \n",
       "\n",
       "                                            panoid    panolat     panolon  \\\n",
       "0                           IvrcS0W1RlFAlnci-p39XA -36.924665  174.737914   \n",
       "1                           IvrcS0W1RlFAlnci-p39XA -36.924665  174.737914   \n",
       "2                           IvrcS0W1RlFAlnci-p39XA -36.924665  174.737914   \n",
       "3                           IvrcS0W1RlFAlnci-p39XA -36.924665  174.737914   \n",
       "4                           IvrcS0W1RlFAlnci-p39XA -36.924665  174.737914   \n",
       "...                                            ...        ...         ...   \n",
       "1318                        CfRtPfDMNhfXHTNvMwnYRw -36.893394  174.728062   \n",
       "1319                        CfRtPfDMNhfXHTNvMwnYRw -36.893394  174.728062   \n",
       "1320  AF1QipN2FD2eYEmK8bRpEgoM7fFl5-nUstwWujnRj0gv -36.845292  174.759939   \n",
       "1321  AF1QipNj6yheGtCvR6Gk2Svq_lG_fuaGPjehPV8kouy8 -36.845177  174.759792   \n",
       "1322  AF1QipN2FD2eYEmK8bRpEgoM7fFl5-nUstwWujnRj0gv -36.845292  174.759939   \n",
       "\n",
       "        panodate  panothirdparty                          source     uploader  \\\n",
       "0        2012-04           False                          launch          NaN   \n",
       "1        2012-04           False                          launch          NaN   \n",
       "2        2012-04           False                          launch          NaN   \n",
       "3        2012-04           False                          launch          NaN   \n",
       "4        2012-04           False                          launch          NaN   \n",
       "...          ...             ...                             ...          ...   \n",
       "1318     2024-06           False                          launch          NaN   \n",
       "1319     2024-06           False                          launch          NaN   \n",
       "1320  2022-06-24            True  photos:street_view_publish_api  Mint Design   \n",
       "1321  2022-06-24            True  photos:street_view_publish_api  Mint Design   \n",
       "1322  2022-06-24            True  photos:street_view_publish_api  Mint Design   \n",
       "\n",
       "      green  environment  water  obscured  people  cars  bikes  \n",
       "0        70  residential      0        30       0     1      0  \n",
       "1        70  residential      0        30       0     1      0  \n",
       "2        70  residential      0        30       0     1      0  \n",
       "3        70  residential      0        30       0     1      0  \n",
       "4        70  residential      0        30       0     1      0  \n",
       "...     ...          ...    ...       ...     ...   ...    ...  \n",
       "1318     40  residential      0        20       1     1      0  \n",
       "1319     40  residential      0        20       1     1      0  \n",
       "1320     10     built up      0        60       0     3      0  \n",
       "1321      0     Built up      0       100       0     0      0  \n",
       "1322     10     built up      0        60       0     3      0  \n",
       "\n",
       "[1323 rows x 22 columns]"
      ]
     },
     "execution_count": 2,
     "metadata": {},
     "output_type": "execute_result"
    }
   ],
   "source": [
    "pd.set_option('display.max_columns', None)\n",
    "df = pd.read_csv(\"results.csv\")\n",
    "LLM_results = pd.read_csv(\"LLM_results.csv\")\n",
    "new_cols = LLM_results.columns[~LLM_results.columns.isin(df.columns)].tolist()\n",
    "df = df.merge(LLM_results[new_cols + [\"panoid\"]], on=\"panoid\")\n",
    "df = gpd.GeoDataFrame(df, geometry=gpd.points_from_xy(df.longitude, df.latitude), crs=\"EPSG:4326\").to_crs(2193)\n",
    "df.to_csv(\"merged_results.csv\", index=False)\n",
    "df"
   ]
  },
  {
   "cell_type": "code",
   "execution_count": 3,
   "metadata": {},
   "outputs": [
    {
     "data": {
      "text/html": [
       "<pre>✔️ 7.39 ms (2024-12-13T12:12:45/2024-12-13T12:12:45)</pre>"
      ],
      "text/plain": [
       "<IPython.core.display.HTML object>"
      ]
     },
     "metadata": {},
     "output_type": "display_data"
    },
    {
     "data": {
      "text/plain": [
       "['nz-river-polygons-topo-150k/nz-river-polygons-topo-150k.gpkg',\n",
       " 'nz-lake-polygons-topo-150k/nz-lake-polygons-topo-150k.gpkg',\n",
       " 'nz-coastlines-topo-150k/nz-coastlines-topo-150k.gpkg',\n",
       " 'nz-pond-polygons-topo-150k/nz-pond-polygons-topo-150k.gpkg',\n",
       " 'nz-spring-points-topo-150k/nz-spring-points-topo-150k.gpkg',\n",
       " 'nz-river-centrelines-topo-150k/nz-river-centrelines-topo-150k.gpkg',\n",
       " 'nz-swamp-polygons-topo-150k/nz-swamp-polygons-topo-150k.gpkg']"
      ]
     },
     "execution_count": 3,
     "metadata": {},
     "output_type": "execute_result"
    }
   ],
   "source": [
    "files = glob(\"nz-*-topo-150k/*.gpkg\")\n",
    "files"
   ]
  },
  {
   "cell_type": "code",
   "execution_count": 4,
   "metadata": {},
   "outputs": [
    {
     "data": {
      "text/html": [
       "<pre>✔️ 4.59 s (2024-12-13T12:12:46/2024-12-13T12:12:50)</pre>"
      ],
      "text/plain": [
       "<IPython.core.display.HTML object>"
      ]
     },
     "metadata": {},
     "output_type": "display_data"
    },
    {
     "data": {
      "application/vnd.jupyter.widget-view+json": {
       "model_id": "a3e83b9dba474d6d92c5b808d07894d4",
       "version_major": 2,
       "version_minor": 0
      },
      "text/plain": [
       "  0%|          | 0/7 [00:00<?, ?it/s]"
      ]
     },
     "metadata": {},
     "output_type": "display_data"
    }
   ],
   "source": [
    "water_dict = {}\n",
    "for f in tqdm(files):\n",
    "  name = os.path.dirname(f).replace(\"nz-\", \"\").replace(\"-topo-150k\", \"\")\n",
    "  water_gdf = gpd.read_file(f)\n",
    "  water_gdf.sindex\n",
    "  water_dict[name] = water_gdf"
   ]
  },
  {
   "cell_type": "code",
   "execution_count": 5,
   "metadata": {},
   "outputs": [
    {
     "data": {
      "text/html": [
       "<pre>✔️ 4.21 s (2024-12-13T12:12:50/2024-12-13T12:12:55)</pre>"
      ],
      "text/plain": [
       "<IPython.core.display.HTML object>"
      ]
     },
     "metadata": {},
     "output_type": "display_data"
    },
    {
     "data": {
      "application/vnd.jupyter.widget-view+json": {
       "model_id": "42b471e829434404b1ea6063ca74e3e9",
       "version_major": 2,
       "version_minor": 0
      },
      "text/plain": [
       "  0%|          | 0/1323 [00:00<?, ?it/s]"
      ]
     },
     "metadata": {},
     "output_type": "display_data"
    }
   ],
   "source": [
    "def get_closest_water(point):\n",
    "  closest_distance = 1e10\n",
    "  closest_name = \"?\"\n",
    "  for name, water_gdf in water_dict.items():\n",
    "    distance = water_gdf.sindex.nearest(point, return_distance=True)[1][0]\n",
    "    if distance < closest_distance:\n",
    "      closest_distance = distance\n",
    "      closest_name = name\n",
    "  return closest_name, closest_distance\n",
    "\n",
    "df[\"water_type\"], df[\"water_distance\"] = zip(*df.geometry.progress_apply(get_closest_water))"
   ]
  },
  {
   "cell_type": "code",
   "execution_count": 6,
   "metadata": {},
   "outputs": [
    {
     "data": {
      "text/html": [
       "<pre>✔️ 8.86 ms (2024-12-13T12:12:55/2024-12-13T12:12:55)</pre>"
      ],
      "text/plain": [
       "<IPython.core.display.HTML object>"
      ]
     },
     "metadata": {},
     "output_type": "display_data"
    },
    {
     "data": {
      "text/plain": [
       "water_type\n",
       "river-centrelines    564\n",
       "lake-polygons        409\n",
       "coastlines           341\n",
       "pond-polygons          5\n",
       "river-polygons         4\n",
       "Name: count, dtype: int64"
      ]
     },
     "execution_count": 6,
     "metadata": {},
     "output_type": "execute_result"
    }
   ],
   "source": [
    "df.water_type.value_counts()"
   ]
  },
  {
   "cell_type": "code",
   "execution_count": 7,
   "metadata": {},
   "outputs": [
    {
     "data": {
      "text/html": [
       "<pre>✔️ 10.2 ms (2024-12-13T12:12:55/2024-12-13T12:12:55)</pre>"
      ],
      "text/plain": [
       "<IPython.core.display.HTML object>"
      ]
     },
     "metadata": {},
     "output_type": "display_data"
    },
    {
     "data": {
      "text/plain": [
       "count       1323.00000\n",
       "mean        9402.82600\n",
       "std       126620.10526\n",
       "min            4.32646\n",
       "25%          384.24734\n",
       "50%          690.59940\n",
       "75%         1101.74075\n",
       "max      1885737.33112\n",
       "Name: water_distance, dtype: object"
      ]
     },
     "execution_count": 7,
     "metadata": {},
     "output_type": "execute_result"
    }
   ],
   "source": [
    "df.water_distance.describe().apply(\"{0:.5f}\".format)"
   ]
  },
  {
   "cell_type": "code",
   "execution_count": 8,
   "metadata": {},
   "outputs": [
    {
     "data": {
      "text/html": [
       "<pre>✔️ 36.8 ms (2024-12-13T12:12:55/2024-12-13T12:12:55)</pre>"
      ],
      "text/plain": [
       "<IPython.core.display.HTML object>"
      ]
     },
     "metadata": {},
     "output_type": "display_data"
    }
   ],
   "source": [
    "df.to_csv(\"merged_results.csv\", index=False)"
   ]
  },
  {
   "cell_type": "code",
   "execution_count": 9,
   "metadata": {},
   "outputs": [
    {
     "data": {
      "text/html": [
       "<pre>✔️ 57.3 ms (2024-12-13T12:12:55/2024-12-13T12:12:55)</pre>"
      ],
      "text/plain": [
       "<IPython.core.display.HTML object>"
      ]
     },
     "metadata": {},
     "output_type": "display_data"
    },
    {
     "data": {
      "text/html": [
       "<table class=\"simpletable\">\n",
       "<caption>OLS Regression Results</caption>\n",
       "<tr>\n",
       "  <th>Dep. Variable:</th>       <td>anxiousness</td>   <th>  R-squared:         </th> <td>   0.023</td>\n",
       "</tr>\n",
       "<tr>\n",
       "  <th>Model:</th>                   <td>OLS</td>       <th>  Adj. R-squared:    </th> <td>   0.009</td>\n",
       "</tr>\n",
       "<tr>\n",
       "  <th>Method:</th>             <td>Least Squares</td>  <th>  F-statistic:       </th> <td>   1.672</td>\n",
       "</tr>\n",
       "<tr>\n",
       "  <th>Date:</th>             <td>Fri, 13 Dec 2024</td> <th>  Prob (F-statistic):</th>  <td>0.0381</td> \n",
       "</tr>\n",
       "<tr>\n",
       "  <th>Time:</th>                 <td>12:12:55</td>     <th>  Log-Likelihood:    </th> <td> -3125.5</td>\n",
       "</tr>\n",
       "<tr>\n",
       "  <th>No. Observations:</th>      <td>  1323</td>      <th>  AIC:               </th> <td>   6289.</td>\n",
       "</tr>\n",
       "<tr>\n",
       "  <th>Df Residuals:</th>          <td>  1304</td>      <th>  BIC:               </th> <td>   6388.</td>\n",
       "</tr>\n",
       "<tr>\n",
       "  <th>Df Model:</th>              <td>    18</td>      <th>                     </th>     <td> </td>   \n",
       "</tr>\n",
       "<tr>\n",
       "  <th>Covariance Type:</th>      <td>nonrobust</td>    <th>                     </th>     <td> </td>   \n",
       "</tr>\n",
       "</table>\n",
       "<table class=\"simpletable\">\n",
       "<tr>\n",
       "                 <td></td>                    <th>coef</th>     <th>std err</th>      <th>t</th>      <th>P>|t|</th>  <th>[0.025</th>    <th>0.975]</th>  \n",
       "</tr>\n",
       "<tr>\n",
       "  <th>Intercept</th>                       <td>    2.3122</td> <td>    0.329</td> <td>    7.034</td> <td> 0.000</td> <td>    1.667</td> <td>    2.957</td>\n",
       "</tr>\n",
       "<tr>\n",
       "  <th>environment[T.built up]</th>         <td>   -0.5638</td> <td>    0.452</td> <td>   -1.246</td> <td> 0.213</td> <td>   -1.451</td> <td>    0.324</td>\n",
       "</tr>\n",
       "<tr>\n",
       "  <th>environment[T.cafes]</th>            <td>   -2.2787</td> <td>    1.334</td> <td>   -1.708</td> <td> 0.088</td> <td>   -4.896</td> <td>    0.338</td>\n",
       "</tr>\n",
       "<tr>\n",
       "  <th>environment[T.green]</th>            <td>   -0.6358</td> <td>    1.344</td> <td>   -0.473</td> <td> 0.636</td> <td>   -3.272</td> <td>    2.000</td>\n",
       "</tr>\n",
       "<tr>\n",
       "  <th>environment[T.park]</th>             <td>   -2.1825</td> <td>    2.617</td> <td>   -0.834</td> <td> 0.405</td> <td>   -7.317</td> <td>    2.952</td>\n",
       "</tr>\n",
       "<tr>\n",
       "  <th>environment[T.residential]</th>      <td>    0.2727</td> <td>    0.300</td> <td>    0.909</td> <td> 0.363</td> <td>   -0.316</td> <td>    0.861</td>\n",
       "</tr>\n",
       "<tr>\n",
       "  <th>environment[T.rural]</th>            <td>   -2.2408</td> <td>    2.610</td> <td>   -0.859</td> <td> 0.391</td> <td>   -7.360</td> <td>    2.879</td>\n",
       "</tr>\n",
       "<tr>\n",
       "  <th>environment[T.shops]</th>            <td>   -0.8079</td> <td>    0.574</td> <td>   -1.406</td> <td> 0.160</td> <td>   -1.935</td> <td>    0.319</td>\n",
       "</tr>\n",
       "<tr>\n",
       "  <th>water_type[T.lake-polygons]</th>     <td>   -0.2273</td> <td>    0.193</td> <td>   -1.175</td> <td> 0.240</td> <td>   -0.607</td> <td>    0.152</td>\n",
       "</tr>\n",
       "<tr>\n",
       "  <th>water_type[T.pond-polygons]</th>     <td>    0.3343</td> <td>    1.212</td> <td>    0.276</td> <td> 0.783</td> <td>   -2.043</td> <td>    2.711</td>\n",
       "</tr>\n",
       "<tr>\n",
       "  <th>water_type[T.river-centrelines]</th> <td>    0.0064</td> <td>    0.181</td> <td>    0.035</td> <td> 0.972</td> <td>   -0.348</td> <td>    0.361</td>\n",
       "</tr>\n",
       "<tr>\n",
       "  <th>water_type[T.river-polygons]</th>    <td>    1.4557</td> <td>    1.308</td> <td>    1.113</td> <td> 0.266</td> <td>   -1.110</td> <td>    4.021</td>\n",
       "</tr>\n",
       "<tr>\n",
       "  <th>green</th>                           <td>   -0.0019</td> <td>    0.004</td> <td>   -0.467</td> <td> 0.641</td> <td>   -0.010</td> <td>    0.006</td>\n",
       "</tr>\n",
       "<tr>\n",
       "  <th>water</th>                           <td>    0.0052</td> <td>    0.026</td> <td>    0.201</td> <td> 0.841</td> <td>   -0.046</td> <td>    0.056</td>\n",
       "</tr>\n",
       "<tr>\n",
       "  <th>obscured</th>                        <td>    0.0019</td> <td>    0.003</td> <td>    0.563</td> <td> 0.574</td> <td>   -0.005</td> <td>    0.008</td>\n",
       "</tr>\n",
       "<tr>\n",
       "  <th>people</th>                          <td>    0.1943</td> <td>    0.104</td> <td>    1.865</td> <td> 0.062</td> <td>   -0.010</td> <td>    0.399</td>\n",
       "</tr>\n",
       "<tr>\n",
       "  <th>cars</th>                            <td>   -0.0244</td> <td>    0.017</td> <td>   -1.416</td> <td> 0.157</td> <td>   -0.058</td> <td>    0.009</td>\n",
       "</tr>\n",
       "<tr>\n",
       "  <th>bikes</th>                           <td>    0.8099</td> <td>    0.461</td> <td>    1.756</td> <td> 0.079</td> <td>   -0.095</td> <td>    1.715</td>\n",
       "</tr>\n",
       "<tr>\n",
       "  <th>water_distance</th>                  <td>-6.158e-07</td> <td> 5.65e-07</td> <td>   -1.089</td> <td> 0.276</td> <td>-1.72e-06</td> <td> 4.93e-07</td>\n",
       "</tr>\n",
       "</table>\n",
       "<table class=\"simpletable\">\n",
       "<tr>\n",
       "  <th>Omnibus:</th>       <td>135.420</td> <th>  Durbin-Watson:     </th> <td>   0.828</td>\n",
       "</tr>\n",
       "<tr>\n",
       "  <th>Prob(Omnibus):</th> <td> 0.000</td>  <th>  Jarque-Bera (JB):  </th> <td> 178.652</td>\n",
       "</tr>\n",
       "<tr>\n",
       "  <th>Skew:</th>          <td> 0.898</td>  <th>  Prob(JB):          </th> <td>1.61e-39</td>\n",
       "</tr>\n",
       "<tr>\n",
       "  <th>Kurtosis:</th>      <td> 2.889</td>  <th>  Cond. No.          </th> <td>4.71e+06</td>\n",
       "</tr>\n",
       "</table><br/><br/>Notes:<br/>[1] Standard Errors assume that the covariance matrix of the errors is correctly specified.<br/>[2] The condition number is large, 4.71e+06. This might indicate that there are<br/>strong multicollinearity or other numerical problems."
      ],
      "text/latex": [
       "\\begin{center}\n",
       "\\begin{tabular}{lclc}\n",
       "\\toprule\n",
       "\\textbf{Dep. Variable:}                   &   anxiousness    & \\textbf{  R-squared:         } &     0.023   \\\\\n",
       "\\textbf{Model:}                           &       OLS        & \\textbf{  Adj. R-squared:    } &     0.009   \\\\\n",
       "\\textbf{Method:}                          &  Least Squares   & \\textbf{  F-statistic:       } &     1.672   \\\\\n",
       "\\textbf{Date:}                            & Fri, 13 Dec 2024 & \\textbf{  Prob (F-statistic):} &   0.0381    \\\\\n",
       "\\textbf{Time:}                            &     12:12:55     & \\textbf{  Log-Likelihood:    } &   -3125.5   \\\\\n",
       "\\textbf{No. Observations:}                &        1323      & \\textbf{  AIC:               } &     6289.   \\\\\n",
       "\\textbf{Df Residuals:}                    &        1304      & \\textbf{  BIC:               } &     6388.   \\\\\n",
       "\\textbf{Df Model:}                        &          18      & \\textbf{                     } &             \\\\\n",
       "\\textbf{Covariance Type:}                 &    nonrobust     & \\textbf{                     } &             \\\\\n",
       "\\bottomrule\n",
       "\\end{tabular}\n",
       "\\begin{tabular}{lcccccc}\n",
       "                                          & \\textbf{coef} & \\textbf{std err} & \\textbf{t} & \\textbf{P$> |$t$|$} & \\textbf{[0.025} & \\textbf{0.975]}  \\\\\n",
       "\\midrule\n",
       "\\textbf{Intercept}                        &       2.3122  &        0.329     &     7.034  &         0.000        &        1.667    &        2.957     \\\\\n",
       "\\textbf{environment[T.built up]}          &      -0.5638  &        0.452     &    -1.246  &         0.213        &       -1.451    &        0.324     \\\\\n",
       "\\textbf{environment[T.cafes]}             &      -2.2787  &        1.334     &    -1.708  &         0.088        &       -4.896    &        0.338     \\\\\n",
       "\\textbf{environment[T.green]}             &      -0.6358  &        1.344     &    -0.473  &         0.636        &       -3.272    &        2.000     \\\\\n",
       "\\textbf{environment[T.park]}              &      -2.1825  &        2.617     &    -0.834  &         0.405        &       -7.317    &        2.952     \\\\\n",
       "\\textbf{environment[T.residential]}       &       0.2727  &        0.300     &     0.909  &         0.363        &       -0.316    &        0.861     \\\\\n",
       "\\textbf{environment[T.rural]}             &      -2.2408  &        2.610     &    -0.859  &         0.391        &       -7.360    &        2.879     \\\\\n",
       "\\textbf{environment[T.shops]}             &      -0.8079  &        0.574     &    -1.406  &         0.160        &       -1.935    &        0.319     \\\\\n",
       "\\textbf{water\\_type[T.lake-polygons]}     &      -0.2273  &        0.193     &    -1.175  &         0.240        &       -0.607    &        0.152     \\\\\n",
       "\\textbf{water\\_type[T.pond-polygons]}     &       0.3343  &        1.212     &     0.276  &         0.783        &       -2.043    &        2.711     \\\\\n",
       "\\textbf{water\\_type[T.river-centrelines]} &       0.0064  &        0.181     &     0.035  &         0.972        &       -0.348    &        0.361     \\\\\n",
       "\\textbf{water\\_type[T.river-polygons]}    &       1.4557  &        1.308     &     1.113  &         0.266        &       -1.110    &        4.021     \\\\\n",
       "\\textbf{green}                            &      -0.0019  &        0.004     &    -0.467  &         0.641        &       -0.010    &        0.006     \\\\\n",
       "\\textbf{water}                            &       0.0052  &        0.026     &     0.201  &         0.841        &       -0.046    &        0.056     \\\\\n",
       "\\textbf{obscured}                         &       0.0019  &        0.003     &     0.563  &         0.574        &       -0.005    &        0.008     \\\\\n",
       "\\textbf{people}                           &       0.1943  &        0.104     &     1.865  &         0.062        &       -0.010    &        0.399     \\\\\n",
       "\\textbf{cars}                             &      -0.0244  &        0.017     &    -1.416  &         0.157        &       -0.058    &        0.009     \\\\\n",
       "\\textbf{bikes}                            &       0.8099  &        0.461     &     1.756  &         0.079        &       -0.095    &        1.715     \\\\\n",
       "\\textbf{water\\_distance}                  &   -6.158e-07  &     5.65e-07     &    -1.089  &         0.276        &    -1.72e-06    &     4.93e-07     \\\\\n",
       "\\bottomrule\n",
       "\\end{tabular}\n",
       "\\begin{tabular}{lclc}\n",
       "\\textbf{Omnibus:}       & 135.420 & \\textbf{  Durbin-Watson:     } &    0.828  \\\\\n",
       "\\textbf{Prob(Omnibus):} &   0.000 & \\textbf{  Jarque-Bera (JB):  } &  178.652  \\\\\n",
       "\\textbf{Skew:}          &   0.898 & \\textbf{  Prob(JB):          } & 1.61e-39  \\\\\n",
       "\\textbf{Kurtosis:}      &   2.889 & \\textbf{  Cond. No.          } & 4.71e+06  \\\\\n",
       "\\bottomrule\n",
       "\\end{tabular}\n",
       "%\\caption{OLS Regression Results}\n",
       "\\end{center}\n",
       "\n",
       "Notes: \\newline\n",
       " [1] Standard Errors assume that the covariance matrix of the errors is correctly specified. \\newline\n",
       " [2] The condition number is large, 4.71e+06. This might indicate that there are \\newline\n",
       " strong multicollinearity or other numerical problems."
      ],
      "text/plain": [
       "<class 'statsmodels.iolib.summary.Summary'>\n",
       "\"\"\"\n",
       "                            OLS Regression Results                            \n",
       "==============================================================================\n",
       "Dep. Variable:            anxiousness   R-squared:                       0.023\n",
       "Model:                            OLS   Adj. R-squared:                  0.009\n",
       "Method:                 Least Squares   F-statistic:                     1.672\n",
       "Date:                Fri, 13 Dec 2024   Prob (F-statistic):             0.0381\n",
       "Time:                        12:12:55   Log-Likelihood:                -3125.5\n",
       "No. Observations:                1323   AIC:                             6289.\n",
       "Df Residuals:                    1304   BIC:                             6388.\n",
       "Df Model:                          18                                         \n",
       "Covariance Type:            nonrobust                                         \n",
       "===================================================================================================\n",
       "                                      coef    std err          t      P>|t|      [0.025      0.975]\n",
       "---------------------------------------------------------------------------------------------------\n",
       "Intercept                           2.3122      0.329      7.034      0.000       1.667       2.957\n",
       "environment[T.built up]            -0.5638      0.452     -1.246      0.213      -1.451       0.324\n",
       "environment[T.cafes]               -2.2787      1.334     -1.708      0.088      -4.896       0.338\n",
       "environment[T.green]               -0.6358      1.344     -0.473      0.636      -3.272       2.000\n",
       "environment[T.park]                -2.1825      2.617     -0.834      0.405      -7.317       2.952\n",
       "environment[T.residential]          0.2727      0.300      0.909      0.363      -0.316       0.861\n",
       "environment[T.rural]               -2.2408      2.610     -0.859      0.391      -7.360       2.879\n",
       "environment[T.shops]               -0.8079      0.574     -1.406      0.160      -1.935       0.319\n",
       "water_type[T.lake-polygons]        -0.2273      0.193     -1.175      0.240      -0.607       0.152\n",
       "water_type[T.pond-polygons]         0.3343      1.212      0.276      0.783      -2.043       2.711\n",
       "water_type[T.river-centrelines]     0.0064      0.181      0.035      0.972      -0.348       0.361\n",
       "water_type[T.river-polygons]        1.4557      1.308      1.113      0.266      -1.110       4.021\n",
       "green                              -0.0019      0.004     -0.467      0.641      -0.010       0.006\n",
       "water                               0.0052      0.026      0.201      0.841      -0.046       0.056\n",
       "obscured                            0.0019      0.003      0.563      0.574      -0.005       0.008\n",
       "people                              0.1943      0.104      1.865      0.062      -0.010       0.399\n",
       "cars                               -0.0244      0.017     -1.416      0.157      -0.058       0.009\n",
       "bikes                               0.8099      0.461      1.756      0.079      -0.095       1.715\n",
       "water_distance                  -6.158e-07   5.65e-07     -1.089      0.276   -1.72e-06    4.93e-07\n",
       "==============================================================================\n",
       "Omnibus:                      135.420   Durbin-Watson:                   0.828\n",
       "Prob(Omnibus):                  0.000   Jarque-Bera (JB):              178.652\n",
       "Skew:                           0.898   Prob(JB):                     1.61e-39\n",
       "Kurtosis:                       2.889   Cond. No.                     4.71e+06\n",
       "==============================================================================\n",
       "\n",
       "Notes:\n",
       "[1] Standard Errors assume that the covariance matrix of the errors is correctly specified.\n",
       "[2] The condition number is large, 4.71e+06. This might indicate that there are\n",
       "strong multicollinearity or other numerical problems.\n",
       "\"\"\""
      ]
     },
     "execution_count": 9,
     "metadata": {},
     "output_type": "execute_result"
    }
   ],
   "source": [
    "smf.ols(formula=\"anxiousness ~ green + environment + water + obscured + people + cars + bikes + water_distance + water_type\", data=df).fit().summary()"
   ]
  }
 ],
 "metadata": {
  "kernelspec": {
   "display_name": "Python 3",
   "language": "python",
   "name": "python3"
  },
  "language_info": {
   "codemirror_mode": {
    "name": "ipython",
    "version": 3
   },
   "file_extension": ".py",
   "mimetype": "text/x-python",
   "name": "python",
   "nbconvert_exporter": "python",
   "pygments_lexer": "ipython3",
   "version": "3.10.12"
  }
 },
 "nbformat": 4,
 "nbformat_minor": 2
}
