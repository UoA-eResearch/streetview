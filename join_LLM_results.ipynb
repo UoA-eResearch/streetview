{
 "cells": [
  {
   "cell_type": "code",
   "execution_count": 1,
   "metadata": {},
   "outputs": [
    {
     "data": {
      "text/html": [
       "<pre>✔️ 677 ms (2024-12-16T15:57:10/2024-12-16T15:57:11)</pre>"
      ],
      "text/plain": [
       "<IPython.core.display.HTML object>"
      ]
     },
     "metadata": {},
     "output_type": "display_data"
    }
   ],
   "source": [
    "%reload_ext autotime\n",
    "import pandas as pd\n",
    "import geopandas as gpd\n",
    "from glob import glob\n",
    "import os\n",
    "from tqdm.auto import tqdm\n",
    "import statsmodels.formula.api as smf\n",
    "tqdm.pandas()"
   ]
  },
  {
   "cell_type": "code",
   "execution_count": 2,
   "metadata": {},
   "outputs": [
    {
     "data": {
      "text/html": [
       "<pre>✔️ 81.6 ms (2024-12-16T15:57:11/2024-12-16T15:57:11)</pre>"
      ],
      "text/plain": [
       "<IPython.core.display.HTML object>"
      ]
     },
     "metadata": {},
     "output_type": "display_data"
    },
    {
     "data": {
      "text/html": [
       "<div>\n",
       "<style scoped>\n",
       "    .dataframe tbody tr th:only-of-type {\n",
       "        vertical-align: middle;\n",
       "    }\n",
       "\n",
       "    .dataframe tbody tr th {\n",
       "        vertical-align: top;\n",
       "    }\n",
       "\n",
       "    .dataframe thead th {\n",
       "        text-align: right;\n",
       "    }\n",
       "</style>\n",
       "<table border=\"1\" class=\"dataframe\">\n",
       "  <thead>\n",
       "    <tr style=\"text-align: right;\">\n",
       "      <th></th>\n",
       "      <th>Index</th>\n",
       "      <th>pid</th>\n",
       "      <th>n</th>\n",
       "      <th>time</th>\n",
       "      <th>anxiousness</th>\n",
       "      <th>latitude</th>\n",
       "      <th>longitude</th>\n",
       "      <th>geometry</th>\n",
       "      <th>panoid</th>\n",
       "      <th>panolat</th>\n",
       "      <th>panolon</th>\n",
       "      <th>panodate</th>\n",
       "      <th>panothirdparty</th>\n",
       "      <th>source</th>\n",
       "      <th>uploader</th>\n",
       "      <th>green</th>\n",
       "      <th>environment</th>\n",
       "      <th>active_transport</th>\n",
       "      <th>quality</th>\n",
       "      <th>water</th>\n",
       "      <th>obscured</th>\n",
       "      <th>people</th>\n",
       "      <th>cars</th>\n",
       "      <th>bikes</th>\n",
       "      <th>dwellings</th>\n",
       "      <th>shops</th>\n",
       "      <th>offices</th>\n",
       "    </tr>\n",
       "  </thead>\n",
       "  <tbody>\n",
       "    <tr>\n",
       "      <th>0</th>\n",
       "      <td>0</td>\n",
       "      <td>P20001</td>\n",
       "      <td>1</td>\n",
       "      <td>2023-04-25T02:51:42Z</td>\n",
       "      <td>0</td>\n",
       "      <td>-36.924795</td>\n",
       "      <td>174.738044</td>\n",
       "      <td>POINT (1754803.112 5912059.517)</td>\n",
       "      <td>IvrcS0W1RlFAlnci-p39XA</td>\n",
       "      <td>-36.924665</td>\n",
       "      <td>174.737914</td>\n",
       "      <td>2012-04</td>\n",
       "      <td>False</td>\n",
       "      <td>launch</td>\n",
       "      <td>NaN</td>\n",
       "      <td>25</td>\n",
       "      <td>low density residential</td>\n",
       "      <td>False</td>\n",
       "      <td>60</td>\n",
       "      <td>0</td>\n",
       "      <td>0</td>\n",
       "      <td>0</td>\n",
       "      <td>2</td>\n",
       "      <td>0</td>\n",
       "      <td>7</td>\n",
       "      <td>2</td>\n",
       "      <td>0</td>\n",
       "    </tr>\n",
       "    <tr>\n",
       "      <th>1</th>\n",
       "      <td>1</td>\n",
       "      <td>P20001</td>\n",
       "      <td>2</td>\n",
       "      <td>2023-04-25T08:43:13Z</td>\n",
       "      <td>0</td>\n",
       "      <td>-36.924801</td>\n",
       "      <td>174.738076</td>\n",
       "      <td>POINT (1754806.011 5912058.736)</td>\n",
       "      <td>IvrcS0W1RlFAlnci-p39XA</td>\n",
       "      <td>-36.924665</td>\n",
       "      <td>174.737914</td>\n",
       "      <td>2012-04</td>\n",
       "      <td>False</td>\n",
       "      <td>launch</td>\n",
       "      <td>NaN</td>\n",
       "      <td>25</td>\n",
       "      <td>low density residential</td>\n",
       "      <td>False</td>\n",
       "      <td>60</td>\n",
       "      <td>0</td>\n",
       "      <td>0</td>\n",
       "      <td>0</td>\n",
       "      <td>2</td>\n",
       "      <td>0</td>\n",
       "      <td>7</td>\n",
       "      <td>2</td>\n",
       "      <td>0</td>\n",
       "    </tr>\n",
       "    <tr>\n",
       "      <th>2</th>\n",
       "      <td>2</td>\n",
       "      <td>P20001</td>\n",
       "      <td>3</td>\n",
       "      <td>2023-04-26T02:22:26Z</td>\n",
       "      <td>0</td>\n",
       "      <td>-36.924783</td>\n",
       "      <td>174.738071</td>\n",
       "      <td>POINT (1754805.575 5912060.734)</td>\n",
       "      <td>IvrcS0W1RlFAlnci-p39XA</td>\n",
       "      <td>-36.924665</td>\n",
       "      <td>174.737914</td>\n",
       "      <td>2012-04</td>\n",
       "      <td>False</td>\n",
       "      <td>launch</td>\n",
       "      <td>NaN</td>\n",
       "      <td>25</td>\n",
       "      <td>low density residential</td>\n",
       "      <td>False</td>\n",
       "      <td>60</td>\n",
       "      <td>0</td>\n",
       "      <td>0</td>\n",
       "      <td>0</td>\n",
       "      <td>2</td>\n",
       "      <td>0</td>\n",
       "      <td>7</td>\n",
       "      <td>2</td>\n",
       "      <td>0</td>\n",
       "    </tr>\n",
       "    <tr>\n",
       "      <th>3</th>\n",
       "      <td>3</td>\n",
       "      <td>P20001</td>\n",
       "      <td>4</td>\n",
       "      <td>2023-04-26T09:00:53Z</td>\n",
       "      <td>0</td>\n",
       "      <td>-36.924797</td>\n",
       "      <td>174.738123</td>\n",
       "      <td>POINT (1754810.215 5912059.092)</td>\n",
       "      <td>IvrcS0W1RlFAlnci-p39XA</td>\n",
       "      <td>-36.924665</td>\n",
       "      <td>174.737914</td>\n",
       "      <td>2012-04</td>\n",
       "      <td>False</td>\n",
       "      <td>launch</td>\n",
       "      <td>NaN</td>\n",
       "      <td>25</td>\n",
       "      <td>low density residential</td>\n",
       "      <td>False</td>\n",
       "      <td>60</td>\n",
       "      <td>0</td>\n",
       "      <td>0</td>\n",
       "      <td>0</td>\n",
       "      <td>2</td>\n",
       "      <td>0</td>\n",
       "      <td>7</td>\n",
       "      <td>2</td>\n",
       "      <td>0</td>\n",
       "    </tr>\n",
       "    <tr>\n",
       "      <th>4</th>\n",
       "      <td>4</td>\n",
       "      <td>P20001</td>\n",
       "      <td>5</td>\n",
       "      <td>2023-04-26T20:36:19Z</td>\n",
       "      <td>3</td>\n",
       "      <td>-36.924771</td>\n",
       "      <td>174.738084</td>\n",
       "      <td>POINT (1754806.75 5912062.109)</td>\n",
       "      <td>IvrcS0W1RlFAlnci-p39XA</td>\n",
       "      <td>-36.924665</td>\n",
       "      <td>174.737914</td>\n",
       "      <td>2012-04</td>\n",
       "      <td>False</td>\n",
       "      <td>launch</td>\n",
       "      <td>NaN</td>\n",
       "      <td>25</td>\n",
       "      <td>low density residential</td>\n",
       "      <td>False</td>\n",
       "      <td>60</td>\n",
       "      <td>0</td>\n",
       "      <td>0</td>\n",
       "      <td>0</td>\n",
       "      <td>2</td>\n",
       "      <td>0</td>\n",
       "      <td>7</td>\n",
       "      <td>2</td>\n",
       "      <td>0</td>\n",
       "    </tr>\n",
       "    <tr>\n",
       "      <th>...</th>\n",
       "      <td>...</td>\n",
       "      <td>...</td>\n",
       "      <td>...</td>\n",
       "      <td>...</td>\n",
       "      <td>...</td>\n",
       "      <td>...</td>\n",
       "      <td>...</td>\n",
       "      <td>...</td>\n",
       "      <td>...</td>\n",
       "      <td>...</td>\n",
       "      <td>...</td>\n",
       "      <td>...</td>\n",
       "      <td>...</td>\n",
       "      <td>...</td>\n",
       "      <td>...</td>\n",
       "      <td>...</td>\n",
       "      <td>...</td>\n",
       "      <td>...</td>\n",
       "      <td>...</td>\n",
       "      <td>...</td>\n",
       "      <td>...</td>\n",
       "      <td>...</td>\n",
       "      <td>...</td>\n",
       "      <td>...</td>\n",
       "      <td>...</td>\n",
       "      <td>...</td>\n",
       "      <td>...</td>\n",
       "    </tr>\n",
       "    <tr>\n",
       "      <th>1318</th>\n",
       "      <td>1426</td>\n",
       "      <td>P20721</td>\n",
       "      <td>1</td>\n",
       "      <td>2024-05-05T02:00:52Z</td>\n",
       "      <td>1</td>\n",
       "      <td>-36.893455</td>\n",
       "      <td>174.728262</td>\n",
       "      <td>POINT (1753994.828 5915552.341)</td>\n",
       "      <td>CfRtPfDMNhfXHTNvMwnYRw</td>\n",
       "      <td>-36.893394</td>\n",
       "      <td>174.728062</td>\n",
       "      <td>2024-06</td>\n",
       "      <td>False</td>\n",
       "      <td>launch</td>\n",
       "      <td>NaN</td>\n",
       "      <td>65</td>\n",
       "      <td>low density residential</td>\n",
       "      <td>False</td>\n",
       "      <td>60</td>\n",
       "      <td>200</td>\n",
       "      <td>20</td>\n",
       "      <td>1</td>\n",
       "      <td>2</td>\n",
       "      <td>0</td>\n",
       "      <td>3</td>\n",
       "      <td>1</td>\n",
       "      <td>0</td>\n",
       "    </tr>\n",
       "    <tr>\n",
       "      <th>1319</th>\n",
       "      <td>1427</td>\n",
       "      <td>P20721</td>\n",
       "      <td>2</td>\n",
       "      <td>2024-05-05T07:36:22Z</td>\n",
       "      <td>1</td>\n",
       "      <td>-36.893483</td>\n",
       "      <td>174.728253</td>\n",
       "      <td>POINT (1753993.98 5915549.306)</td>\n",
       "      <td>CfRtPfDMNhfXHTNvMwnYRw</td>\n",
       "      <td>-36.893394</td>\n",
       "      <td>174.728062</td>\n",
       "      <td>2024-06</td>\n",
       "      <td>False</td>\n",
       "      <td>launch</td>\n",
       "      <td>NaN</td>\n",
       "      <td>65</td>\n",
       "      <td>low density residential</td>\n",
       "      <td>False</td>\n",
       "      <td>60</td>\n",
       "      <td>200</td>\n",
       "      <td>20</td>\n",
       "      <td>1</td>\n",
       "      <td>2</td>\n",
       "      <td>0</td>\n",
       "      <td>3</td>\n",
       "      <td>1</td>\n",
       "      <td>0</td>\n",
       "    </tr>\n",
       "    <tr>\n",
       "      <th>1320</th>\n",
       "      <td>1428</td>\n",
       "      <td>P20721</td>\n",
       "      <td>3</td>\n",
       "      <td>2024-05-05T23:06:27Z</td>\n",
       "      <td>2</td>\n",
       "      <td>-36.845252</td>\n",
       "      <td>174.759951</td>\n",
       "      <td>POINT (1756917.266 5920848.722)</td>\n",
       "      <td>AF1QipN2FD2eYEmK8bRpEgoM7fFl5-nUstwWujnRj0gv</td>\n",
       "      <td>-36.845292</td>\n",
       "      <td>174.759939</td>\n",
       "      <td>2022-06-24</td>\n",
       "      <td>True</td>\n",
       "      <td>photos:street_view_publish_api</td>\n",
       "      <td>Mint Design</td>\n",
       "      <td>0</td>\n",
       "      <td>commercial</td>\n",
       "      <td>False</td>\n",
       "      <td>80</td>\n",
       "      <td>0</td>\n",
       "      <td>70</td>\n",
       "      <td>0</td>\n",
       "      <td>6</td>\n",
       "      <td>0</td>\n",
       "      <td>4</td>\n",
       "      <td>4</td>\n",
       "      <td>2</td>\n",
       "    </tr>\n",
       "    <tr>\n",
       "      <th>1321</th>\n",
       "      <td>1429</td>\n",
       "      <td>P20721</td>\n",
       "      <td>4</td>\n",
       "      <td>2024-05-06T07:04:57Z</td>\n",
       "      <td>0</td>\n",
       "      <td>-36.845165</td>\n",
       "      <td>174.759885</td>\n",
       "      <td>POINT (1756911.566 5920858.442)</td>\n",
       "      <td>AF1QipNj6yheGtCvR6Gk2Svq_lG_fuaGPjehPV8kouy8</td>\n",
       "      <td>-36.845177</td>\n",
       "      <td>174.759792</td>\n",
       "      <td>2022-06-24</td>\n",
       "      <td>True</td>\n",
       "      <td>photos:street_view_publish_api</td>\n",
       "      <td>Mint Design</td>\n",
       "      <td>0</td>\n",
       "      <td>low density residential</td>\n",
       "      <td>False</td>\n",
       "      <td>80</td>\n",
       "      <td>0</td>\n",
       "      <td>0</td>\n",
       "      <td>0</td>\n",
       "      <td>2</td>\n",
       "      <td>0</td>\n",
       "      <td>2</td>\n",
       "      <td>1</td>\n",
       "      <td>0</td>\n",
       "    </tr>\n",
       "    <tr>\n",
       "      <th>1322</th>\n",
       "      <td>1430</td>\n",
       "      <td>P20721</td>\n",
       "      <td>5</td>\n",
       "      <td>2024-05-06T20:11:18Z</td>\n",
       "      <td>1</td>\n",
       "      <td>-36.845252</td>\n",
       "      <td>174.759953</td>\n",
       "      <td>POINT (1756917.426 5920848.708)</td>\n",
       "      <td>AF1QipN2FD2eYEmK8bRpEgoM7fFl5-nUstwWujnRj0gv</td>\n",
       "      <td>-36.845292</td>\n",
       "      <td>174.759939</td>\n",
       "      <td>2022-06-24</td>\n",
       "      <td>True</td>\n",
       "      <td>photos:street_view_publish_api</td>\n",
       "      <td>Mint Design</td>\n",
       "      <td>0</td>\n",
       "      <td>commercial</td>\n",
       "      <td>False</td>\n",
       "      <td>80</td>\n",
       "      <td>0</td>\n",
       "      <td>70</td>\n",
       "      <td>0</td>\n",
       "      <td>6</td>\n",
       "      <td>0</td>\n",
       "      <td>4</td>\n",
       "      <td>4</td>\n",
       "      <td>2</td>\n",
       "    </tr>\n",
       "  </tbody>\n",
       "</table>\n",
       "<p>1323 rows × 27 columns</p>\n",
       "</div>"
      ],
      "text/plain": [
       "      Index     pid  n                  time  anxiousness   latitude  \\\n",
       "0         0  P20001  1  2023-04-25T02:51:42Z            0 -36.924795   \n",
       "1         1  P20001  2  2023-04-25T08:43:13Z            0 -36.924801   \n",
       "2         2  P20001  3  2023-04-26T02:22:26Z            0 -36.924783   \n",
       "3         3  P20001  4  2023-04-26T09:00:53Z            0 -36.924797   \n",
       "4         4  P20001  5  2023-04-26T20:36:19Z            3 -36.924771   \n",
       "...     ...     ... ..                   ...          ...        ...   \n",
       "1318   1426  P20721  1  2024-05-05T02:00:52Z            1 -36.893455   \n",
       "1319   1427  P20721  2  2024-05-05T07:36:22Z            1 -36.893483   \n",
       "1320   1428  P20721  3  2024-05-05T23:06:27Z            2 -36.845252   \n",
       "1321   1429  P20721  4  2024-05-06T07:04:57Z            0 -36.845165   \n",
       "1322   1430  P20721  5  2024-05-06T20:11:18Z            1 -36.845252   \n",
       "\n",
       "       longitude                         geometry  \\\n",
       "0     174.738044  POINT (1754803.112 5912059.517)   \n",
       "1     174.738076  POINT (1754806.011 5912058.736)   \n",
       "2     174.738071  POINT (1754805.575 5912060.734)   \n",
       "3     174.738123  POINT (1754810.215 5912059.092)   \n",
       "4     174.738084   POINT (1754806.75 5912062.109)   \n",
       "...          ...                              ...   \n",
       "1318  174.728262  POINT (1753994.828 5915552.341)   \n",
       "1319  174.728253   POINT (1753993.98 5915549.306)   \n",
       "1320  174.759951  POINT (1756917.266 5920848.722)   \n",
       "1321  174.759885  POINT (1756911.566 5920858.442)   \n",
       "1322  174.759953  POINT (1756917.426 5920848.708)   \n",
       "\n",
       "                                            panoid    panolat     panolon  \\\n",
       "0                           IvrcS0W1RlFAlnci-p39XA -36.924665  174.737914   \n",
       "1                           IvrcS0W1RlFAlnci-p39XA -36.924665  174.737914   \n",
       "2                           IvrcS0W1RlFAlnci-p39XA -36.924665  174.737914   \n",
       "3                           IvrcS0W1RlFAlnci-p39XA -36.924665  174.737914   \n",
       "4                           IvrcS0W1RlFAlnci-p39XA -36.924665  174.737914   \n",
       "...                                            ...        ...         ...   \n",
       "1318                        CfRtPfDMNhfXHTNvMwnYRw -36.893394  174.728062   \n",
       "1319                        CfRtPfDMNhfXHTNvMwnYRw -36.893394  174.728062   \n",
       "1320  AF1QipN2FD2eYEmK8bRpEgoM7fFl5-nUstwWujnRj0gv -36.845292  174.759939   \n",
       "1321  AF1QipNj6yheGtCvR6Gk2Svq_lG_fuaGPjehPV8kouy8 -36.845177  174.759792   \n",
       "1322  AF1QipN2FD2eYEmK8bRpEgoM7fFl5-nUstwWujnRj0gv -36.845292  174.759939   \n",
       "\n",
       "        panodate  panothirdparty                          source     uploader  \\\n",
       "0        2012-04           False                          launch          NaN   \n",
       "1        2012-04           False                          launch          NaN   \n",
       "2        2012-04           False                          launch          NaN   \n",
       "3        2012-04           False                          launch          NaN   \n",
       "4        2012-04           False                          launch          NaN   \n",
       "...          ...             ...                             ...          ...   \n",
       "1318     2024-06           False                          launch          NaN   \n",
       "1319     2024-06           False                          launch          NaN   \n",
       "1320  2022-06-24            True  photos:street_view_publish_api  Mint Design   \n",
       "1321  2022-06-24            True  photos:street_view_publish_api  Mint Design   \n",
       "1322  2022-06-24            True  photos:street_view_publish_api  Mint Design   \n",
       "\n",
       "     green              environment  active_transport quality water obscured  \\\n",
       "0       25  low density residential             False      60     0        0   \n",
       "1       25  low density residential             False      60     0        0   \n",
       "2       25  low density residential             False      60     0        0   \n",
       "3       25  low density residential             False      60     0        0   \n",
       "4       25  low density residential             False      60     0        0   \n",
       "...    ...                      ...               ...     ...   ...      ...   \n",
       "1318    65  low density residential             False      60   200       20   \n",
       "1319    65  low density residential             False      60   200       20   \n",
       "1320     0               commercial             False      80     0       70   \n",
       "1321     0  low density residential             False      80     0        0   \n",
       "1322     0               commercial             False      80     0       70   \n",
       "\n",
       "      people  cars  bikes  dwellings  shops  offices  \n",
       "0          0     2      0          7      2        0  \n",
       "1          0     2      0          7      2        0  \n",
       "2          0     2      0          7      2        0  \n",
       "3          0     2      0          7      2        0  \n",
       "4          0     2      0          7      2        0  \n",
       "...      ...   ...    ...        ...    ...      ...  \n",
       "1318       1     2      0          3      1        0  \n",
       "1319       1     2      0          3      1        0  \n",
       "1320       0     6      0          4      4        2  \n",
       "1321       0     2      0          2      1        0  \n",
       "1322       0     6      0          4      4        2  \n",
       "\n",
       "[1323 rows x 27 columns]"
      ]
     },
     "execution_count": 2,
     "metadata": {},
     "output_type": "execute_result"
    }
   ],
   "source": [
    "pd.set_option('display.max_columns', None)\n",
    "df = pd.read_csv(\"results.csv\")\n",
    "LLM_results = pd.read_csv(\"LLM_results.csv\")\n",
    "new_cols = LLM_results.columns[~LLM_results.columns.isin(df.columns)].tolist()\n",
    "df = df.merge(LLM_results[new_cols + [\"panoid\"]], on=\"panoid\")\n",
    "df = gpd.GeoDataFrame(df, geometry=gpd.points_from_xy(df.longitude, df.latitude), crs=\"EPSG:4326\").to_crs(2193)\n",
    "df.to_csv(\"merged_results.csv\", index=False)\n",
    "df"
   ]
  },
  {
   "cell_type": "code",
   "execution_count": 3,
   "metadata": {},
   "outputs": [
    {
     "data": {
      "text/html": [
       "<pre>✔️ 7.53 ms (2024-12-16T15:57:11/2024-12-16T15:57:11)</pre>"
      ],
      "text/plain": [
       "<IPython.core.display.HTML object>"
      ]
     },
     "metadata": {},
     "output_type": "display_data"
    },
    {
     "data": {
      "text/plain": [
       "['nz-river-polygons-topo-150k/nz-river-polygons-topo-150k.gpkg',\n",
       " 'nz-lake-polygons-topo-150k/nz-lake-polygons-topo-150k.gpkg',\n",
       " 'nz-coastlines-topo-150k/nz-coastlines-topo-150k.gpkg',\n",
       " 'nz-pond-polygons-topo-150k/nz-pond-polygons-topo-150k.gpkg',\n",
       " 'nz-spring-points-topo-150k/nz-spring-points-topo-150k.gpkg',\n",
       " 'nz-river-centrelines-topo-150k/nz-river-centrelines-topo-150k.gpkg',\n",
       " 'nz-swamp-polygons-topo-150k/nz-swamp-polygons-topo-150k.gpkg']"
      ]
     },
     "execution_count": 3,
     "metadata": {},
     "output_type": "execute_result"
    }
   ],
   "source": [
    "files = glob(\"nz-*-topo-150k/*.gpkg\")\n",
    "files"
   ]
  },
  {
   "cell_type": "code",
   "execution_count": 4,
   "metadata": {},
   "outputs": [
    {
     "data": {
      "text/html": [
       "<pre>✔️ 4.54 s (2024-12-16T15:57:11/2024-12-16T15:57:16)</pre>"
      ],
      "text/plain": [
       "<IPython.core.display.HTML object>"
      ]
     },
     "metadata": {},
     "output_type": "display_data"
    },
    {
     "data": {
      "application/vnd.jupyter.widget-view+json": {
       "model_id": "2f4daabc2d1c493a87faf3d648eaa1b1",
       "version_major": 2,
       "version_minor": 0
      },
      "text/plain": [
       "  0%|          | 0/7 [00:00<?, ?it/s]"
      ]
     },
     "metadata": {},
     "output_type": "display_data"
    }
   ],
   "source": [
    "water_dict = {}\n",
    "for f in tqdm(files):\n",
    "  name = os.path.dirname(f).replace(\"nz-\", \"\").replace(\"-topo-150k\", \"\")\n",
    "  water_gdf = gpd.read_file(f)\n",
    "  water_gdf.sindex\n",
    "  water_dict[name] = water_gdf"
   ]
  },
  {
   "cell_type": "code",
   "execution_count": 5,
   "metadata": {},
   "outputs": [
    {
     "data": {
      "text/html": [
       "<pre>✔️ 4.18 s (2024-12-16T15:57:16/2024-12-16T15:57:20)</pre>"
      ],
      "text/plain": [
       "<IPython.core.display.HTML object>"
      ]
     },
     "metadata": {},
     "output_type": "display_data"
    },
    {
     "data": {
      "application/vnd.jupyter.widget-view+json": {
       "model_id": "1a9d7dfd2ac34344bc4ba0602140cfd8",
       "version_major": 2,
       "version_minor": 0
      },
      "text/plain": [
       "  0%|          | 0/1323 [00:00<?, ?it/s]"
      ]
     },
     "metadata": {},
     "output_type": "display_data"
    }
   ],
   "source": [
    "def get_closest_water(point):\n",
    "  closest_distance = 1e10\n",
    "  closest_name = \"?\"\n",
    "  for name, water_gdf in water_dict.items():\n",
    "    distance = water_gdf.sindex.nearest(point, return_distance=True)[1][0]\n",
    "    if distance < closest_distance:\n",
    "      closest_distance = distance\n",
    "      closest_name = name\n",
    "  return closest_name, closest_distance\n",
    "\n",
    "df[\"water_type\"], df[\"water_distance\"] = zip(*df.geometry.progress_apply(get_closest_water))"
   ]
  },
  {
   "cell_type": "code",
   "execution_count": 6,
   "metadata": {},
   "outputs": [
    {
     "data": {
      "text/html": [
       "<pre>✔️ 7.02 ms (2024-12-16T15:57:20/2024-12-16T15:57:20)</pre>"
      ],
      "text/plain": [
       "<IPython.core.display.HTML object>"
      ]
     },
     "metadata": {},
     "output_type": "display_data"
    },
    {
     "data": {
      "text/plain": [
       "water_type\n",
       "river-centrelines    564\n",
       "lake-polygons        409\n",
       "coastlines           341\n",
       "pond-polygons          5\n",
       "river-polygons         4\n",
       "Name: count, dtype: int64"
      ]
     },
     "execution_count": 6,
     "metadata": {},
     "output_type": "execute_result"
    }
   ],
   "source": [
    "df.water_type.value_counts()"
   ]
  },
  {
   "cell_type": "code",
   "execution_count": 7,
   "metadata": {},
   "outputs": [
    {
     "data": {
      "text/html": [
       "<pre>✔️ 10.7 ms (2024-12-16T15:57:20/2024-12-16T15:57:20)</pre>"
      ],
      "text/plain": [
       "<IPython.core.display.HTML object>"
      ]
     },
     "metadata": {},
     "output_type": "display_data"
    },
    {
     "data": {
      "text/plain": [
       "count       1323.00000\n",
       "mean        9402.82600\n",
       "std       126620.10526\n",
       "min            4.32646\n",
       "25%          384.24734\n",
       "50%          690.59940\n",
       "75%         1101.74075\n",
       "max      1885737.33112\n",
       "Name: water_distance, dtype: object"
      ]
     },
     "execution_count": 7,
     "metadata": {},
     "output_type": "execute_result"
    }
   ],
   "source": [
    "df.water_distance.describe().apply(\"{0:.5f}\".format)"
   ]
  },
  {
   "cell_type": "code",
   "execution_count": 8,
   "metadata": {},
   "outputs": [
    {
     "data": {
      "text/html": [
       "<pre>✔️ 11.6 ms (2024-12-16T15:57:20/2024-12-16T15:57:20)</pre>"
      ],
      "text/plain": [
       "<IPython.core.display.HTML object>"
      ]
     },
     "metadata": {},
     "output_type": "display_data"
    }
   ],
   "source": [
    "df.green = df.green.str.extract(r\"(\\d+)\").astype(float)\n",
    "df.water = df.water.str.extract(r\"(\\d+)\").astype(int)\n",
    "df.obscured = df.obscured.str.extract(r\"(\\d+)\").astype(int)\n",
    "df.quality = df.quality.str.extract(r\"(\\d+)\").astype(int)"
   ]
  },
  {
   "cell_type": "code",
   "execution_count": 9,
   "metadata": {},
   "outputs": [
    {
     "data": {
      "text/html": [
       "<pre>✔️ 36.4 ms (2024-12-16T15:57:20/2024-12-16T15:57:21)</pre>"
      ],
      "text/plain": [
       "<IPython.core.display.HTML object>"
      ]
     },
     "metadata": {},
     "output_type": "display_data"
    }
   ],
   "source": [
    "df.to_csv(\"merged_results.csv\", index=False)"
   ]
  },
  {
   "cell_type": "code",
   "execution_count": 10,
   "metadata": {},
   "outputs": [
    {
     "data": {
      "text/html": [
       "<pre>✔️ 7.17 ms (2024-12-16T15:57:21/2024-12-16T15:57:21)</pre>"
      ],
      "text/plain": [
       "<IPython.core.display.HTML object>"
      ]
     },
     "metadata": {},
     "output_type": "display_data"
    },
    {
     "data": {
      "text/plain": [
       "environment\n",
       "low density residential       908\n",
       "medium density residential    249\n",
       "commercial                    125\n",
       "park                           15\n",
       "shops                          11\n",
       "indoor                         10\n",
       "cafes                           4\n",
       "supermarket                     1\n",
       "Name: count, dtype: int64"
      ]
     },
     "execution_count": 10,
     "metadata": {},
     "output_type": "execute_result"
    }
   ],
   "source": [
    "df.environment.value_counts()"
   ]
  },
  {
   "cell_type": "code",
   "execution_count": 11,
   "metadata": {},
   "outputs": [
    {
     "data": {
      "text/html": [
       "<pre>✔️ 5.58 ms (2024-12-16T15:57:21/2024-12-16T15:57:21)</pre>"
      ],
      "text/plain": [
       "<IPython.core.display.HTML object>"
      ]
     },
     "metadata": {},
     "output_type": "display_data"
    },
    {
     "data": {
      "text/plain": [
       "'green + environment + active_transport + quality + water + obscured + people + cars + bikes + dwellings + shops + offices + water_type + water_distance'"
      ]
     },
     "execution_count": 11,
     "metadata": {},
     "output_type": "execute_result"
    }
   ],
   "source": [
    "IVs = \" + \".join(df.columns[15:])\n",
    "IVs"
   ]
  },
  {
   "cell_type": "code",
   "execution_count": 12,
   "metadata": {},
   "outputs": [
    {
     "data": {
      "text/html": [
       "<pre></pre>"
      ],
      "text/plain": [
       "<IPython.core.display.HTML object>"
      ]
     },
     "metadata": {},
     "output_type": "display_data"
    },
    {
     "data": {
      "text/html": [
       "<table class=\"simpletable\">\n",
       "<caption>OLS Regression Results</caption>\n",
       "<tr>\n",
       "  <th>Dep. Variable:</th>       <td>anxiousness</td>   <th>  R-squared:         </th> <td>   0.024</td>\n",
       "</tr>\n",
       "<tr>\n",
       "  <th>Model:</th>                   <td>OLS</td>       <th>  Adj. R-squared:    </th> <td>   0.007</td>\n",
       "</tr>\n",
       "<tr>\n",
       "  <th>Method:</th>             <td>Least Squares</td>  <th>  F-statistic:       </th> <td>   1.374</td>\n",
       "</tr>\n",
       "<tr>\n",
       "  <th>Date:</th>             <td>Mon, 16 Dec 2024</td> <th>  Prob (F-statistic):</th>  <td> 0.111</td> \n",
       "</tr>\n",
       "<tr>\n",
       "  <th>Time:</th>                 <td>15:57:21</td>     <th>  Log-Likelihood:    </th> <td> -3107.8</td>\n",
       "</tr>\n",
       "<tr>\n",
       "  <th>No. Observations:</th>      <td>  1315</td>      <th>  AIC:               </th> <td>   6264.</td>\n",
       "</tr>\n",
       "<tr>\n",
       "  <th>Df Residuals:</th>          <td>  1291</td>      <th>  BIC:               </th> <td>   6388.</td>\n",
       "</tr>\n",
       "<tr>\n",
       "  <th>Df Model:</th>              <td>    23</td>      <th>                     </th>     <td> </td>   \n",
       "</tr>\n",
       "<tr>\n",
       "  <th>Covariance Type:</th>      <td>nonrobust</td>    <th>                     </th>     <td> </td>   \n",
       "</tr>\n",
       "</table>\n",
       "<table class=\"simpletable\">\n",
       "<tr>\n",
       "                      <td></td>                         <th>coef</th>     <th>std err</th>      <th>t</th>      <th>P>|t|</th>  <th>[0.025</th>    <th>0.975]</th>  \n",
       "</tr>\n",
       "<tr>\n",
       "  <th>Intercept</th>                                 <td>    0.7753</td> <td>    1.470</td> <td>    0.527</td> <td> 0.598</td> <td>   -2.109</td> <td>    3.660</td>\n",
       "</tr>\n",
       "<tr>\n",
       "  <th>environment[T.commercial]</th>                 <td>    2.0572</td> <td>    1.344</td> <td>    1.531</td> <td> 0.126</td> <td>   -0.579</td> <td>    4.693</td>\n",
       "</tr>\n",
       "<tr>\n",
       "  <th>environment[T.indoor]</th>                     <td>    2.3370</td> <td>    1.558</td> <td>    1.500</td> <td> 0.134</td> <td>   -0.719</td> <td>    5.393</td>\n",
       "</tr>\n",
       "<tr>\n",
       "  <th>environment[T.low density residential]</th>    <td>    2.1825</td> <td>    1.332</td> <td>    1.638</td> <td> 0.102</td> <td>   -0.431</td> <td>    4.796</td>\n",
       "</tr>\n",
       "<tr>\n",
       "  <th>environment[T.medium density residential]</th> <td>    1.9964</td> <td>    1.340</td> <td>    1.490</td> <td> 0.137</td> <td>   -0.633</td> <td>    4.625</td>\n",
       "</tr>\n",
       "<tr>\n",
       "  <th>environment[T.park]</th>                       <td>    1.7498</td> <td>    1.485</td> <td>    1.178</td> <td> 0.239</td> <td>   -1.164</td> <td>    4.664</td>\n",
       "</tr>\n",
       "<tr>\n",
       "  <th>environment[T.shops]</th>                      <td>    3.7196</td> <td>    1.540</td> <td>    2.416</td> <td> 0.016</td> <td>    0.699</td> <td>    6.740</td>\n",
       "</tr>\n",
       "<tr>\n",
       "  <th>environment[T.supermarket]</th>                <td>    1.5212</td> <td>    2.917</td> <td>    0.522</td> <td> 0.602</td> <td>   -4.201</td> <td>    7.244</td>\n",
       "</tr>\n",
       "<tr>\n",
       "  <th>active_transport[T.True]</th>                  <td>    0.3774</td> <td>    0.176</td> <td>    2.145</td> <td> 0.032</td> <td>    0.032</td> <td>    0.723</td>\n",
       "</tr>\n",
       "<tr>\n",
       "  <th>water_type[T.lake-polygons]</th>               <td>   -0.3440</td> <td>    0.196</td> <td>   -1.756</td> <td> 0.079</td> <td>   -0.728</td> <td>    0.040</td>\n",
       "</tr>\n",
       "<tr>\n",
       "  <th>water_type[T.pond-polygons]</th>               <td>   -0.2802</td> <td>    1.184</td> <td>   -0.237</td> <td> 0.813</td> <td>   -2.604</td> <td>    2.043</td>\n",
       "</tr>\n",
       "<tr>\n",
       "  <th>water_type[T.river-centrelines]</th>           <td>   -0.0674</td> <td>    0.184</td> <td>   -0.366</td> <td> 0.714</td> <td>   -0.429</td> <td>    0.294</td>\n",
       "</tr>\n",
       "<tr>\n",
       "  <th>water_type[T.river-polygons]</th>              <td>    1.4749</td> <td>    1.313</td> <td>    1.123</td> <td> 0.262</td> <td>   -1.101</td> <td>    4.051</td>\n",
       "</tr>\n",
       "<tr>\n",
       "  <th>green</th>                                     <td>    0.0003</td> <td>    0.004</td> <td>    0.061</td> <td> 0.951</td> <td>   -0.008</td> <td>    0.009</td>\n",
       "</tr>\n",
       "<tr>\n",
       "  <th>quality</th>                                   <td>   -0.0102</td> <td>    0.007</td> <td>   -1.433</td> <td> 0.152</td> <td>   -0.024</td> <td>    0.004</td>\n",
       "</tr>\n",
       "<tr>\n",
       "  <th>water</th>                                     <td>   -0.0018</td> <td>    0.001</td> <td>   -2.032</td> <td> 0.042</td> <td>   -0.004</td> <td>-6.32e-05</td>\n",
       "</tr>\n",
       "<tr>\n",
       "  <th>obscured</th>                                  <td>    0.0075</td> <td>    0.006</td> <td>    1.278</td> <td> 0.201</td> <td>   -0.004</td> <td>    0.019</td>\n",
       "</tr>\n",
       "<tr>\n",
       "  <th>people</th>                                    <td>    0.0255</td> <td>    0.054</td> <td>    0.477</td> <td> 0.634</td> <td>   -0.079</td> <td>    0.131</td>\n",
       "</tr>\n",
       "<tr>\n",
       "  <th>cars</th>                                      <td>   -0.0161</td> <td>    0.022</td> <td>   -0.739</td> <td> 0.460</td> <td>   -0.059</td> <td>    0.027</td>\n",
       "</tr>\n",
       "<tr>\n",
       "  <th>bikes</th>                                     <td>    0.0220</td> <td>    0.156</td> <td>    0.141</td> <td> 0.888</td> <td>   -0.285</td> <td>    0.329</td>\n",
       "</tr>\n",
       "<tr>\n",
       "  <th>dwellings</th>                                 <td>    0.0166</td> <td>    0.013</td> <td>    1.259</td> <td> 0.208</td> <td>   -0.009</td> <td>    0.042</td>\n",
       "</tr>\n",
       "<tr>\n",
       "  <th>shops</th>                                     <td>    0.0203</td> <td>    0.079</td> <td>    0.255</td> <td> 0.799</td> <td>   -0.136</td> <td>    0.176</td>\n",
       "</tr>\n",
       "<tr>\n",
       "  <th>offices</th>                                   <td>   -0.0993</td> <td>    0.158</td> <td>   -0.628</td> <td> 0.530</td> <td>   -0.409</td> <td>    0.211</td>\n",
       "</tr>\n",
       "<tr>\n",
       "  <th>water_distance</th>                            <td>-4.851e-07</td> <td> 5.72e-07</td> <td>   -0.847</td> <td> 0.397</td> <td>-1.61e-06</td> <td> 6.38e-07</td>\n",
       "</tr>\n",
       "</table>\n",
       "<table class=\"simpletable\">\n",
       "<tr>\n",
       "  <th>Omnibus:</th>       <td>130.564</td> <th>  Durbin-Watson:     </th> <td>   0.827</td>\n",
       "</tr>\n",
       "<tr>\n",
       "  <th>Prob(Omnibus):</th> <td> 0.000</td>  <th>  Jarque-Bera (JB):  </th> <td> 169.166</td>\n",
       "</tr>\n",
       "<tr>\n",
       "  <th>Skew:</th>          <td> 0.873</td>  <th>  Prob(JB):          </th> <td>1.85e-37</td>\n",
       "</tr>\n",
       "<tr>\n",
       "  <th>Kurtosis:</th>      <td> 2.796</td>  <th>  Cond. No.          </th> <td>7.02e+06</td>\n",
       "</tr>\n",
       "</table><br/><br/>Notes:<br/>[1] Standard Errors assume that the covariance matrix of the errors is correctly specified.<br/>[2] The condition number is large, 7.02e+06. This might indicate that there are<br/>strong multicollinearity or other numerical problems."
      ],
      "text/latex": [
       "\\begin{center}\n",
       "\\begin{tabular}{lclc}\n",
       "\\toprule\n",
       "\\textbf{Dep. Variable:}                            &   anxiousness    & \\textbf{  R-squared:         } &     0.024   \\\\\n",
       "\\textbf{Model:}                                    &       OLS        & \\textbf{  Adj. R-squared:    } &     0.007   \\\\\n",
       "\\textbf{Method:}                                   &  Least Squares   & \\textbf{  F-statistic:       } &     1.374   \\\\\n",
       "\\textbf{Date:}                                     & Mon, 16 Dec 2024 & \\textbf{  Prob (F-statistic):} &    0.111    \\\\\n",
       "\\textbf{Time:}                                     &     15:57:21     & \\textbf{  Log-Likelihood:    } &   -3107.8   \\\\\n",
       "\\textbf{No. Observations:}                         &        1315      & \\textbf{  AIC:               } &     6264.   \\\\\n",
       "\\textbf{Df Residuals:}                             &        1291      & \\textbf{  BIC:               } &     6388.   \\\\\n",
       "\\textbf{Df Model:}                                 &          23      & \\textbf{                     } &             \\\\\n",
       "\\textbf{Covariance Type:}                          &    nonrobust     & \\textbf{                     } &             \\\\\n",
       "\\bottomrule\n",
       "\\end{tabular}\n",
       "\\begin{tabular}{lcccccc}\n",
       "                                                   & \\textbf{coef} & \\textbf{std err} & \\textbf{t} & \\textbf{P$> |$t$|$} & \\textbf{[0.025} & \\textbf{0.975]}  \\\\\n",
       "\\midrule\n",
       "\\textbf{Intercept}                                 &       0.7753  &        1.470     &     0.527  &         0.598        &       -2.109    &        3.660     \\\\\n",
       "\\textbf{environment[T.commercial]}                 &       2.0572  &        1.344     &     1.531  &         0.126        &       -0.579    &        4.693     \\\\\n",
       "\\textbf{environment[T.indoor]}                     &       2.3370  &        1.558     &     1.500  &         0.134        &       -0.719    &        5.393     \\\\\n",
       "\\textbf{environment[T.low density residential]}    &       2.1825  &        1.332     &     1.638  &         0.102        &       -0.431    &        4.796     \\\\\n",
       "\\textbf{environment[T.medium density residential]} &       1.9964  &        1.340     &     1.490  &         0.137        &       -0.633    &        4.625     \\\\\n",
       "\\textbf{environment[T.park]}                       &       1.7498  &        1.485     &     1.178  &         0.239        &       -1.164    &        4.664     \\\\\n",
       "\\textbf{environment[T.shops]}                      &       3.7196  &        1.540     &     2.416  &         0.016        &        0.699    &        6.740     \\\\\n",
       "\\textbf{environment[T.supermarket]}                &       1.5212  &        2.917     &     0.522  &         0.602        &       -4.201    &        7.244     \\\\\n",
       "\\textbf{active\\_transport[T.True]}                 &       0.3774  &        0.176     &     2.145  &         0.032        &        0.032    &        0.723     \\\\\n",
       "\\textbf{water\\_type[T.lake-polygons]}              &      -0.3440  &        0.196     &    -1.756  &         0.079        &       -0.728    &        0.040     \\\\\n",
       "\\textbf{water\\_type[T.pond-polygons]}              &      -0.2802  &        1.184     &    -0.237  &         0.813        &       -2.604    &        2.043     \\\\\n",
       "\\textbf{water\\_type[T.river-centrelines]}          &      -0.0674  &        0.184     &    -0.366  &         0.714        &       -0.429    &        0.294     \\\\\n",
       "\\textbf{water\\_type[T.river-polygons]}             &       1.4749  &        1.313     &     1.123  &         0.262        &       -1.101    &        4.051     \\\\\n",
       "\\textbf{green}                                     &       0.0003  &        0.004     &     0.061  &         0.951        &       -0.008    &        0.009     \\\\\n",
       "\\textbf{quality}                                   &      -0.0102  &        0.007     &    -1.433  &         0.152        &       -0.024    &        0.004     \\\\\n",
       "\\textbf{water}                                     &      -0.0018  &        0.001     &    -2.032  &         0.042        &       -0.004    &    -6.32e-05     \\\\\n",
       "\\textbf{obscured}                                  &       0.0075  &        0.006     &     1.278  &         0.201        &       -0.004    &        0.019     \\\\\n",
       "\\textbf{people}                                    &       0.0255  &        0.054     &     0.477  &         0.634        &       -0.079    &        0.131     \\\\\n",
       "\\textbf{cars}                                      &      -0.0161  &        0.022     &    -0.739  &         0.460        &       -0.059    &        0.027     \\\\\n",
       "\\textbf{bikes}                                     &       0.0220  &        0.156     &     0.141  &         0.888        &       -0.285    &        0.329     \\\\\n",
       "\\textbf{dwellings}                                 &       0.0166  &        0.013     &     1.259  &         0.208        &       -0.009    &        0.042     \\\\\n",
       "\\textbf{shops}                                     &       0.0203  &        0.079     &     0.255  &         0.799        &       -0.136    &        0.176     \\\\\n",
       "\\textbf{offices}                                   &      -0.0993  &        0.158     &    -0.628  &         0.530        &       -0.409    &        0.211     \\\\\n",
       "\\textbf{water\\_distance}                           &   -4.851e-07  &     5.72e-07     &    -0.847  &         0.397        &    -1.61e-06    &     6.38e-07     \\\\\n",
       "\\bottomrule\n",
       "\\end{tabular}\n",
       "\\begin{tabular}{lclc}\n",
       "\\textbf{Omnibus:}       & 130.564 & \\textbf{  Durbin-Watson:     } &    0.827  \\\\\n",
       "\\textbf{Prob(Omnibus):} &   0.000 & \\textbf{  Jarque-Bera (JB):  } &  169.166  \\\\\n",
       "\\textbf{Skew:}          &   0.873 & \\textbf{  Prob(JB):          } & 1.85e-37  \\\\\n",
       "\\textbf{Kurtosis:}      &   2.796 & \\textbf{  Cond. No.          } & 7.02e+06  \\\\\n",
       "\\bottomrule\n",
       "\\end{tabular}\n",
       "%\\caption{OLS Regression Results}\n",
       "\\end{center}\n",
       "\n",
       "Notes: \\newline\n",
       " [1] Standard Errors assume that the covariance matrix of the errors is correctly specified. \\newline\n",
       " [2] The condition number is large, 7.02e+06. This might indicate that there are \\newline\n",
       " strong multicollinearity or other numerical problems."
      ],
      "text/plain": [
       "<class 'statsmodels.iolib.summary.Summary'>\n",
       "\"\"\"\n",
       "                            OLS Regression Results                            \n",
       "==============================================================================\n",
       "Dep. Variable:            anxiousness   R-squared:                       0.024\n",
       "Model:                            OLS   Adj. R-squared:                  0.007\n",
       "Method:                 Least Squares   F-statistic:                     1.374\n",
       "Date:                Mon, 16 Dec 2024   Prob (F-statistic):              0.111\n",
       "Time:                        15:57:21   Log-Likelihood:                -3107.8\n",
       "No. Observations:                1315   AIC:                             6264.\n",
       "Df Residuals:                    1291   BIC:                             6388.\n",
       "Df Model:                          23                                         \n",
       "Covariance Type:            nonrobust                                         \n",
       "=============================================================================================================\n",
       "                                                coef    std err          t      P>|t|      [0.025      0.975]\n",
       "-------------------------------------------------------------------------------------------------------------\n",
       "Intercept                                     0.7753      1.470      0.527      0.598      -2.109       3.660\n",
       "environment[T.commercial]                     2.0572      1.344      1.531      0.126      -0.579       4.693\n",
       "environment[T.indoor]                         2.3370      1.558      1.500      0.134      -0.719       5.393\n",
       "environment[T.low density residential]        2.1825      1.332      1.638      0.102      -0.431       4.796\n",
       "environment[T.medium density residential]     1.9964      1.340      1.490      0.137      -0.633       4.625\n",
       "environment[T.park]                           1.7498      1.485      1.178      0.239      -1.164       4.664\n",
       "environment[T.shops]                          3.7196      1.540      2.416      0.016       0.699       6.740\n",
       "environment[T.supermarket]                    1.5212      2.917      0.522      0.602      -4.201       7.244\n",
       "active_transport[T.True]                      0.3774      0.176      2.145      0.032       0.032       0.723\n",
       "water_type[T.lake-polygons]                  -0.3440      0.196     -1.756      0.079      -0.728       0.040\n",
       "water_type[T.pond-polygons]                  -0.2802      1.184     -0.237      0.813      -2.604       2.043\n",
       "water_type[T.river-centrelines]              -0.0674      0.184     -0.366      0.714      -0.429       0.294\n",
       "water_type[T.river-polygons]                  1.4749      1.313      1.123      0.262      -1.101       4.051\n",
       "green                                         0.0003      0.004      0.061      0.951      -0.008       0.009\n",
       "quality                                      -0.0102      0.007     -1.433      0.152      -0.024       0.004\n",
       "water                                        -0.0018      0.001     -2.032      0.042      -0.004   -6.32e-05\n",
       "obscured                                      0.0075      0.006      1.278      0.201      -0.004       0.019\n",
       "people                                        0.0255      0.054      0.477      0.634      -0.079       0.131\n",
       "cars                                         -0.0161      0.022     -0.739      0.460      -0.059       0.027\n",
       "bikes                                         0.0220      0.156      0.141      0.888      -0.285       0.329\n",
       "dwellings                                     0.0166      0.013      1.259      0.208      -0.009       0.042\n",
       "shops                                         0.0203      0.079      0.255      0.799      -0.136       0.176\n",
       "offices                                      -0.0993      0.158     -0.628      0.530      -0.409       0.211\n",
       "water_distance                            -4.851e-07   5.72e-07     -0.847      0.397   -1.61e-06    6.38e-07\n",
       "==============================================================================\n",
       "Omnibus:                      130.564   Durbin-Watson:                   0.827\n",
       "Prob(Omnibus):                  0.000   Jarque-Bera (JB):              169.166\n",
       "Skew:                           0.873   Prob(JB):                     1.85e-37\n",
       "Kurtosis:                       2.796   Cond. No.                     7.02e+06\n",
       "==============================================================================\n",
       "\n",
       "Notes:\n",
       "[1] Standard Errors assume that the covariance matrix of the errors is correctly specified.\n",
       "[2] The condition number is large, 7.02e+06. This might indicate that there are\n",
       "strong multicollinearity or other numerical problems.\n",
       "\"\"\""
      ]
     },
     "execution_count": 12,
     "metadata": {},
     "output_type": "execute_result"
    }
   ],
   "source": [
    "smf.ols(formula=f\"anxiousness ~ {IVs}\", data=df).fit().summary()"
   ]
  }
 ],
 "metadata": {
  "kernelspec": {
   "display_name": "Python 3",
   "language": "python",
   "name": "python3"
  },
  "language_info": {
   "codemirror_mode": {
    "name": "ipython",
    "version": 3
   },
   "file_extension": ".py",
   "mimetype": "text/x-python",
   "name": "python",
   "nbconvert_exporter": "python",
   "pygments_lexer": "ipython3",
   "version": "3.10.12"
  }
 },
 "nbformat": 4,
 "nbformat_minor": 2
}
