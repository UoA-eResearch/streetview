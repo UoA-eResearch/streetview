{
 "cells": [
  {
   "cell_type": "code",
   "execution_count": 1,
   "metadata": {},
   "outputs": [
    {
     "data": {
      "text/html": [
       "<pre>✔️ 815 ms (2024-12-11T12:14:07/2024-12-11T12:14:08)</pre>"
      ],
      "text/plain": [
       "<IPython.core.display.HTML object>"
      ]
     },
     "metadata": {},
     "output_type": "display_data"
    },
    {
     "data": {
      "text/plain": [
       "True"
      ]
     },
     "execution_count": 1,
     "metadata": {},
     "output_type": "execute_result"
    }
   ],
   "source": [
    "%reload_ext autotime\n",
    "import pandas as pd\n",
    "import geopandas as gpd\n",
    "import requests\n",
    "import requests_cache\n",
    "requests_cache.install_cache('cache')\n",
    "import streetview\n",
    "import os\n",
    "from tqdm.auto import tqdm\n",
    "from PIL import Image\n",
    "import matplotlib.pyplot as plt\n",
    "import dotenv\n",
    "dotenv.load_dotenv()"
   ]
  },
  {
   "cell_type": "code",
   "execution_count": 2,
   "metadata": {},
   "outputs": [
    {
     "data": {
      "text/html": [
       "<pre>✔️ 24.7 ms (2024-12-11T12:14:08/2024-12-11T12:14:08)</pre>"
      ],
      "text/plain": [
       "<IPython.core.display.HTML object>"
      ]
     },
     "metadata": {},
     "output_type": "display_data"
    },
    {
     "data": {
      "text/html": [
       "<div>\n",
       "<style scoped>\n",
       "    .dataframe tbody tr th:only-of-type {\n",
       "        vertical-align: middle;\n",
       "    }\n",
       "\n",
       "    .dataframe tbody tr th {\n",
       "        vertical-align: top;\n",
       "    }\n",
       "\n",
       "    .dataframe thead th {\n",
       "        text-align: right;\n",
       "    }\n",
       "</style>\n",
       "<table border=\"1\" class=\"dataframe\">\n",
       "  <thead>\n",
       "    <tr style=\"text-align: right;\">\n",
       "      <th></th>\n",
       "      <th>pid</th>\n",
       "      <th>n</th>\n",
       "      <th>time</th>\n",
       "      <th>anxiousness</th>\n",
       "      <th>latitude</th>\n",
       "      <th>longitude</th>\n",
       "      <th>geometry</th>\n",
       "    </tr>\n",
       "  </thead>\n",
       "  <tbody>\n",
       "    <tr>\n",
       "      <th>0</th>\n",
       "      <td>P20001</td>\n",
       "      <td>1</td>\n",
       "      <td>2023-04-25T02:51:42Z</td>\n",
       "      <td>0</td>\n",
       "      <td>-36.924795</td>\n",
       "      <td>174.738044</td>\n",
       "      <td>POINT (174.73804 -36.92479)</td>\n",
       "    </tr>\n",
       "    <tr>\n",
       "      <th>1</th>\n",
       "      <td>P20001</td>\n",
       "      <td>2</td>\n",
       "      <td>2023-04-25T08:43:13Z</td>\n",
       "      <td>0</td>\n",
       "      <td>-36.924801</td>\n",
       "      <td>174.738076</td>\n",
       "      <td>POINT (174.73808 -36.9248)</td>\n",
       "    </tr>\n",
       "    <tr>\n",
       "      <th>2</th>\n",
       "      <td>P20001</td>\n",
       "      <td>3</td>\n",
       "      <td>2023-04-26T02:22:26Z</td>\n",
       "      <td>0</td>\n",
       "      <td>-36.924783</td>\n",
       "      <td>174.738071</td>\n",
       "      <td>POINT (174.73807 -36.92478)</td>\n",
       "    </tr>\n",
       "    <tr>\n",
       "      <th>3</th>\n",
       "      <td>P20001</td>\n",
       "      <td>4</td>\n",
       "      <td>2023-04-26T09:00:53Z</td>\n",
       "      <td>0</td>\n",
       "      <td>-36.924797</td>\n",
       "      <td>174.738123</td>\n",
       "      <td>POINT (174.73812 -36.9248)</td>\n",
       "    </tr>\n",
       "    <tr>\n",
       "      <th>4</th>\n",
       "      <td>P20001</td>\n",
       "      <td>5</td>\n",
       "      <td>2023-04-26T20:36:19Z</td>\n",
       "      <td>3</td>\n",
       "      <td>-36.924771</td>\n",
       "      <td>174.738084</td>\n",
       "      <td>POINT (174.73808 -36.92477)</td>\n",
       "    </tr>\n",
       "    <tr>\n",
       "      <th>...</th>\n",
       "      <td>...</td>\n",
       "      <td>...</td>\n",
       "      <td>...</td>\n",
       "      <td>...</td>\n",
       "      <td>...</td>\n",
       "      <td>...</td>\n",
       "      <td>...</td>\n",
       "    </tr>\n",
       "    <tr>\n",
       "      <th>1426</th>\n",
       "      <td>P20721</td>\n",
       "      <td>1</td>\n",
       "      <td>2024-05-05T02:00:52Z</td>\n",
       "      <td>1</td>\n",
       "      <td>-36.893455</td>\n",
       "      <td>174.728262</td>\n",
       "      <td>POINT (174.72826 -36.89346)</td>\n",
       "    </tr>\n",
       "    <tr>\n",
       "      <th>1427</th>\n",
       "      <td>P20721</td>\n",
       "      <td>2</td>\n",
       "      <td>2024-05-05T07:36:22Z</td>\n",
       "      <td>1</td>\n",
       "      <td>-36.893483</td>\n",
       "      <td>174.728253</td>\n",
       "      <td>POINT (174.72825 -36.89348)</td>\n",
       "    </tr>\n",
       "    <tr>\n",
       "      <th>1428</th>\n",
       "      <td>P20721</td>\n",
       "      <td>3</td>\n",
       "      <td>2024-05-05T23:06:27Z</td>\n",
       "      <td>2</td>\n",
       "      <td>-36.845252</td>\n",
       "      <td>174.759951</td>\n",
       "      <td>POINT (174.75995 -36.84525)</td>\n",
       "    </tr>\n",
       "    <tr>\n",
       "      <th>1429</th>\n",
       "      <td>P20721</td>\n",
       "      <td>4</td>\n",
       "      <td>2024-05-06T07:04:57Z</td>\n",
       "      <td>0</td>\n",
       "      <td>-36.845165</td>\n",
       "      <td>174.759885</td>\n",
       "      <td>POINT (174.75988 -36.84516)</td>\n",
       "    </tr>\n",
       "    <tr>\n",
       "      <th>1430</th>\n",
       "      <td>P20721</td>\n",
       "      <td>5</td>\n",
       "      <td>2024-05-06T20:11:18Z</td>\n",
       "      <td>1</td>\n",
       "      <td>-36.845252</td>\n",
       "      <td>174.759953</td>\n",
       "      <td>POINT (174.75995 -36.84525)</td>\n",
       "    </tr>\n",
       "  </tbody>\n",
       "</table>\n",
       "<p>1431 rows × 7 columns</p>\n",
       "</div>"
      ],
      "text/plain": [
       "         pid  n                  time  anxiousness   latitude   longitude  \\\n",
       "0     P20001  1  2023-04-25T02:51:42Z            0 -36.924795  174.738044   \n",
       "1     P20001  2  2023-04-25T08:43:13Z            0 -36.924801  174.738076   \n",
       "2     P20001  3  2023-04-26T02:22:26Z            0 -36.924783  174.738071   \n",
       "3     P20001  4  2023-04-26T09:00:53Z            0 -36.924797  174.738123   \n",
       "4     P20001  5  2023-04-26T20:36:19Z            3 -36.924771  174.738084   \n",
       "...      ... ..                   ...          ...        ...         ...   \n",
       "1426  P20721  1  2024-05-05T02:00:52Z            1 -36.893455  174.728262   \n",
       "1427  P20721  2  2024-05-05T07:36:22Z            1 -36.893483  174.728253   \n",
       "1428  P20721  3  2024-05-05T23:06:27Z            2 -36.845252  174.759951   \n",
       "1429  P20721  4  2024-05-06T07:04:57Z            0 -36.845165  174.759885   \n",
       "1430  P20721  5  2024-05-06T20:11:18Z            1 -36.845252  174.759953   \n",
       "\n",
       "                         geometry  \n",
       "0     POINT (174.73804 -36.92479)  \n",
       "1      POINT (174.73808 -36.9248)  \n",
       "2     POINT (174.73807 -36.92478)  \n",
       "3      POINT (174.73812 -36.9248)  \n",
       "4     POINT (174.73808 -36.92477)  \n",
       "...                           ...  \n",
       "1426  POINT (174.72826 -36.89346)  \n",
       "1427  POINT (174.72825 -36.89348)  \n",
       "1428  POINT (174.75995 -36.84525)  \n",
       "1429  POINT (174.75988 -36.84516)  \n",
       "1430  POINT (174.75995 -36.84525)  \n",
       "\n",
       "[1431 rows x 7 columns]"
      ]
     },
     "execution_count": 2,
     "metadata": {},
     "output_type": "execute_result"
    }
   ],
   "source": [
    "df = pd.read_csv(\"example_GPS_data.csv\")\n",
    "df = gpd.GeoDataFrame(df, geometry=gpd.points_from_xy(df.longitude, df.latitude), crs=\"EPSG:4326\")\n",
    "df"
   ]
  },
  {
   "cell_type": "code",
   "execution_count": null,
   "metadata": {},
   "outputs": [
    {
     "data": {
      "text/html": [
       "<pre>⌛ 10 min 38 s (2024-12-11T14:20:10)</pre>"
      ],
      "text/plain": [
       "<IPython.core.display.HTML object>"
      ]
     },
     "metadata": {},
     "output_type": "display_data"
    },
    {
     "data": {
      "application/vnd.jupyter.widget-view+json": {
       "model_id": "1f7951d3e68b45d4971e6c2a85585a98",
       "version_major": 2,
       "version_minor": 0
      },
      "text/plain": [
       "  0%|          | 0/1431 [00:00<?, ?it/s]"
      ]
     },
     "metadata": {},
     "output_type": "display_data"
    },
    {
     "name": "stdout",
     "output_type": "stream",
     "text": [
      "'date'\n",
      "{'copyright': '© Google', 'location': {'lat': -36.92530810090037, 'lng': 174.784988799528}, 'pano_id': 'Xwet0yFANV1g6Sw35tsDkw', 'status': 'OK'}\n"
     ]
    }
   ],
   "source": [
    "results = []\n",
    "for row in tqdm(df.itertuples(), total=len(df)):\n",
    "    panoids = streetview.panoids(lat=row.latitude, lon=row.longitude)\n",
    "    # Filter to recent panoramas\n",
    "    panoids = [p for p in panoids if p.get(\"year\", 2024) > 2023]\n",
    "    if panoids:\n",
    "        pano = panoids[0]\n",
    "        panoid = pano[\"panoid\"]\n",
    "        if not pano.get(\"year\"):\n",
    "            # If the year is not available, get it from the metadata\n",
    "            try:\n",
    "                resp = requests.get(f\"https://maps.googleapis.com/maps/api/streetview/metadata?pano={panoid}&key={os.getenv('API_KEY')}\").json()\n",
    "                year, month = resp[\"date\"].split(\"-\")\n",
    "                pano[\"year\"] = year\n",
    "                pano[\"month\"] = month\n",
    "            except Exception as e:\n",
    "                print(e)\n",
    "                print(resp)\n",
    "        filename = f\"panoramas/{panoid}.png\"\n",
    "        if not os.path.isfile(filename):\n",
    "            try:\n",
    "                panorama = streetview.download_panorama_v3(panoid, zoom=2, disp=False)\n",
    "                os.makedirs(\"panoramas\", exist_ok=True)\n",
    "                Image.fromarray(panorama).save(filename)\n",
    "            except Exception as e:\n",
    "                print(e)\n",
    "                display(row)\n",
    "        row = row._asdict()\n",
    "        row[\"panoid\"] = panoid\n",
    "        row[\"panolat\"] = pano[\"lat\"]\n",
    "        row[\"panolon\"] = pano[\"lon\"]\n",
    "        row[\"panoyear\"] = pano.get(\"year\")\n",
    "        row[\"panomonth\"] = pano.get(\"month\")\n",
    "        results.append(row)\n",
    "        if row[\"Index\"] % 10 == 0:\n",
    "            pd.DataFrame(results).to_csv(\"results.csv\", index=False)\n",
    "pd.DataFrame(results).to_csv(\"results.csv\", index=False)"
   ]
  }
 ],
 "metadata": {
  "kernelspec": {
   "display_name": "Python 3",
   "language": "python",
   "name": "python3"
  },
  "language_info": {
   "codemirror_mode": {
    "name": "ipython",
    "version": 3
   },
   "file_extension": ".py",
   "mimetype": "text/x-python",
   "name": "python",
   "nbconvert_exporter": "python",
   "pygments_lexer": "ipython3",
   "version": "3.10.12"
  }
 },
 "nbformat": 4,
 "nbformat_minor": 2
}
